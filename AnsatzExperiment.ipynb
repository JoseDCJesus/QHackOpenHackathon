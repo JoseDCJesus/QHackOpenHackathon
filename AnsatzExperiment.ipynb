{
 "cells": [
  {
   "cell_type": "markdown",
   "id": "7df27628-e237-4f42-95e8-6a6620982242",
   "metadata": {},
   "source": [
    "Jupiter Notebook to show and compare different Ansatz"
   ]
  },
  {
   "cell_type": "code",
   "execution_count": 1,
   "id": "e8b1e865-fd97-47c5-9e52-60315b69144a",
   "metadata": {},
   "outputs": [
    {
     "name": "stderr",
     "output_type": "stream",
     "text": [
      "/tmp/ipykernel_9586/1247502325.py:11: DeprecationWarning: The qiskit.IBMQ entrypoint and the qiskit-ibmq-provider package (accessible from 'qiskit.providers.ibmq`) are deprecated and will be removed in a future release. Instead you should use the qiskit-ibm-provider package which is accessible from 'qiskit_ibm_provider'. You can install it with 'pip install qiskit_ibm_provider'. Just replace 'qiskit.IBMQ' with 'qiskit_ibm_provider.IBMProvider'\n",
      "  IBMQ.save_account('7d51f5c5e5c7521015c58312ad6428df9fc7dcf957d3159dfba1f25c77afdbee41b8ae64d75b87285e51cd8d0b28c172a4a13c2491283414a1d489281fb5a2f1')\n",
      "configrc.store_credentials:WARNING:2023-02-28 16:44:25,604: Credentials already present. Set overwrite=True to overwrite.\n"
     ]
    }
   ],
   "source": [
    "import numpy as np\n",
    "\n",
    "# Importing standard Qiskit libraries\n",
    "from qiskit import QuantumCircuit, transpile, Aer, IBMQ\n",
    "from qiskit.tools.jupyter import *\n",
    "from qiskit.visualization import *\n",
    "from ibm_quantum_widgets import *\n",
    "from qiskit.providers.aer import QasmSimulator\n",
    "\n",
    "# Loading your IBM Quantum account(s)\n",
    "IBMQ.save_account('7d51f5c5e5c7521015c58312ad6428df9fc7dcf957d3159dfba1f25c77afdbee41b8ae64d75b87285e51cd8d0b28c172a4a13c2491283414a1d489281fb5a2f1')\n",
    "provider = IBMQ.load_account()"
   ]
  },
  {
   "cell_type": "code",
   "execution_count": 2,
   "id": "0a300944-5331-4977-a9c5-9a9ec35acbb6",
   "metadata": {},
   "outputs": [
    {
     "name": "stdout",
     "output_type": "stream",
     "text": [
      "=== GROUND STATE ENERGY ===\n",
      " \n",
      "* Electronic ground state energy (Hartree): -18.966849762441\n",
      "  - computed part:      -18.966849762441\n",
      "~ Nuclear repulsion energy (Hartree): 3.37181881021\n",
      "> Total ground state energy (Hartree): -15.595030952231\n",
      " \n",
      "=== MEASURED OBSERVABLES ===\n",
      " \n",
      "  0:  # Particles: 6.000 S: 0.000 S^2: 0.000 M: 0.000\n",
      " \n",
      "=== DIPOLE MOMENTS ===\n",
      " \n",
      "~ Nuclear dipole moment (a.u.): [0.0  0.0  15.1253679]\n",
      " \n",
      "  0: \n",
      "  * Electronic dipole moment (a.u.): [0.0  0.0  15.1253679]\n",
      "    - computed part:      [0.0  0.0  15.1253679]\n",
      "  > Dipole moment (a.u.): [0.0  0.0  0.0]  Total: 0.0\n",
      "                 (debye): [0.0  0.0  0.0]  Total: 0.0\n",
      " \n"
     ]
    }
   ],
   "source": [
    "from qiskit_nature.second_q.drivers import PySCFDriver\n",
    "from qiskit_nature.units import DistanceUnit\n",
    "driver_ana = PySCFDriver(\n",
    "    atom=\"H 0 0 0; Be 0 0 1.334; H 0 0 2.668\",\n",
    "    basis=\"sto3g\",\n",
    "    charge=0,\n",
    "    spin=0,\n",
    "    unit=DistanceUnit.ANGSTROM,\n",
    ")\n",
    "\n",
    "from qiskit_nature.transformers.second_quantization.electronic import FreezeCoreTransformer\n",
    "from qiskit_nature.problems.second_quantization import ElectronicStructureProblem\n",
    "problem_ana = ElectronicStructureProblem(\n",
    "        driver_ana,\n",
    "        [FreezeCoreTransformer(freeze_core=False)])\n",
    "    \n",
    "problem_ana = driver_ana.run()\n",
    "\n",
    "from qiskit_nature.second_q.algorithms import GroundStateEigensolver, NumPyMinimumEigensolverFactory\n",
    "from qiskit_nature.second_q.mappers import ParityMapper, JordanWignerMapper, QubitConverter\n",
    "\n",
    "solver = GroundStateEigensolver(\n",
    "    QubitConverter(ParityMapper()),\n",
    "    NumPyMinimumEigensolverFactory(),\n",
    ")\n",
    "\n",
    "result = solver.solve(problem_ana)\n",
    "ana_gs = result.total_energies[0]\n",
    "print(result)"
   ]
  },
  {
   "cell_type": "code",
   "execution_count": 3,
   "id": "be636574-5896-4383-93d6-11e7b7b3b700",
   "metadata": {},
   "outputs": [],
   "source": [
    "from qiskit_nature.drivers import Molecule\n",
    "from qiskit_nature.drivers.second_quantization import (\n",
    "    ElectronicStructureMoleculeDriver, ElectronicStructureDriverType)\n",
    "\n",
    "# Define Molecule\n",
    "molecule = Molecule(\n",
    "    # Coordinates in Angstrom\n",
    "    geometry=[\n",
    "        [\"H\", [0.0, 0.0, 0.0]],\n",
    "        [\"Be\", [1.334, 0.0, 0.0]],\n",
    "        [\"H\", [2.668, 0.0, 0.0]]\n",
    "    ],\n",
    "    multiplicity=1,  # = 2*spin + 1\n",
    "    charge=0,\n",
    ")\n",
    "\n",
    "driver = ElectronicStructureMoleculeDriver(\n",
    "    molecule=molecule,\n",
    "    basis=\"sto3g\",\n",
    "    driver_type=ElectronicStructureDriverType.PYSCF)"
   ]
  },
  {
   "cell_type": "code",
   "execution_count": 4,
   "id": "239138ec-8b24-47f6-9443-a5d95f5b7530",
   "metadata": {},
   "outputs": [],
   "source": [
    "# Define Problem, Use freeze core approximation, remove orbitals.\n",
    "from qiskit_nature.problems.second_quantization import ElectronicStructureProblem\n",
    "from qiskit_nature.transformers.second_quantization.electronic import FreezeCoreTransformer\n",
    "problem = ElectronicStructureProblem(\n",
    "    driver,\n",
    "    [FreezeCoreTransformer(freeze_core=True, remove_orbitals=[2,3])])\n",
    "\n",
    "second_q_ops = problem.second_q_ops()  # Get 2nd Quant OP\n",
    "num_spin_orbitals = problem.num_spin_orbitals\n",
    "num_particles = problem.num_particles\n"
   ]
  },
  {
   "cell_type": "code",
   "execution_count": 5,
   "id": "5ceeecef-4990-4530-8856-ca70348c42c8",
   "metadata": {},
   "outputs": [],
   "source": [
    "from qiskit.opflow import TwoQubitReduction\n",
    "mapper = ParityMapper()#JordanWignerMapper()\n",
    "converter = QubitConverter(mapper, two_qubit_reduction=True)\n",
    "hamiltonian = second_q_ops['ElectronicEnergy']\n",
    "qubit_op = converter.convert(hamiltonian)\n",
    "reducer = TwoQubitReduction(num_particles)\n",
    "qubit_op = reducer.convert(qubit_op)\n",
    "num_particles = num_particles\n",
    "num_spin_orbitals = num_spin_orbitals -2"
   ]
  },
  {
   "cell_type": "code",
   "execution_count": 6,
   "id": "a15188c2-cf22-4149-8afb-cbb4e2bcb139",
   "metadata": {},
   "outputs": [
    {
     "name": "stdout",
     "output_type": "stream",
     "text": [
      "6\n",
      "(1, 1)\n"
     ]
    }
   ],
   "source": [
    "print(num_spin_orbitals)\n",
    "print(num_particles)"
   ]
  },
  {
   "cell_type": "code",
   "execution_count": 7,
   "id": "f3e90cfe-c071-4d8f-9dea-8c7df7f810fd",
   "metadata": {},
   "outputs": [
    {
     "data": {
      "text/plain": [
       "<qiskit.circuit.instructionset.InstructionSet at 0x7efbcd05b1f0>"
      ]
     },
     "execution_count": 7,
     "metadata": {},
     "output_type": "execute_result"
    }
   ],
   "source": [
    "from qiskit_nature.second_q.circuit.library import UCCSD, HartreeFock\n",
    "from qiskit.circuit.library import ExcitationPreserving\n",
    "from qiskit.circuit import Parameter\n",
    "\n",
    "UCCSDAns = HartreeFock(num_spin_orbitals//2, num_particles, converter)\n",
    "SimplAns = HartreeFock(num_spin_orbitals//2, num_particles, converter)\n",
    "HFAns = HartreeFock(num_spin_orbitals//2, num_particles, converter)\n",
    "UCCSDAns.append( UCCSD(num_spin_orbitals//2, num_particles, converter), [i for i in range(num_spin_orbitals)])"
   ]
  },
  {
   "cell_type": "code",
   "execution_count": 8,
   "id": "150f2c01-3a59-49e7-b6b8-a631f4ac1f08",
   "metadata": {},
   "outputs": [
    {
     "data": {
      "text/plain": [
       "<qiskit.circuit.instructionset.InstructionSet at 0x7efbcd064c40>"
      ]
     },
     "execution_count": 8,
     "metadata": {},
     "output_type": "execute_result"
    }
   ],
   "source": [
    "for i in range(6):\n",
    "    SimplAns.rx(Parameter('ax_' + str(i)), i)\n",
    "\n",
    "SimplAns.append(ExcitationPreserving(2,reps=0, parameter_prefix='a'), [0,3])\n",
    "SimplAns.append(ExcitationPreserving(2,reps=0, parameter_prefix='b'), [1,4])\n",
    "SimplAns.append(ExcitationPreserving(2,reps=0, parameter_prefix='c'), [2,5])"
   ]
  },
  {
   "cell_type": "code",
   "execution_count": 9,
   "id": "e90954d7-2fb4-4dca-8ef5-370f5962d3ac",
   "metadata": {},
   "outputs": [
    {
     "data": {
      "text/html": [
       "<pre style=\"word-wrap: normal;white-space: pre;background: #fff0;line-height: 1.1;font-family: &quot;Courier New&quot;,Courier,monospace\">        ┌───┐    ┌──────────┐┌──────────────────────────────────┐»\n",
       "q_0: ───┤ X ├────┤ Rx(ax_0) ├┤0                                 ├»\n",
       "        ├───┤    ├──────────┤│                                  │»\n",
       "q_1: ───┤ X ├────┤ Rx(ax_1) ├┤                                  ├»\n",
       "        ├───┤    ├──────────┤│  ExcitationPreserving(a[0],a[1]) │»\n",
       "q_2: ───┤ X ├────┤ Rx(ax_2) ├┤                                  ├»\n",
       "     ┌──┴───┴───┐└──────────┘│                                  │»\n",
       "q_3: ┤ Rx(ax_3) ├────────────┤1                                 ├»\n",
       "     ├──────────┤            └──────────────────────────────────┘»\n",
       "q_4: ┤ Rx(ax_4) ├────────────────────────────────────────────────»\n",
       "     ├──────────┤                                                »\n",
       "q_5: ┤ Rx(ax_5) ├────────────────────────────────────────────────»\n",
       "     └──────────┘                                                »\n",
       "«                                                                             \n",
       "«q_0: ────────────────────────────────────────────────────────────────────────\n",
       "«     ┌──────────────────────────────────┐                                    \n",
       "«q_1: ┤0                                 ├────────────────────────────────────\n",
       "«     │                                  │┌──────────────────────────────────┐\n",
       "«q_2: ┤                                  ├┤0                                 ├\n",
       "«     │  ExcitationPreserving(b[0],b[1]) ││                                  │\n",
       "«q_3: ┤                                  ├┤                                  ├\n",
       "«     │                                  ││  ExcitationPreserving(c[0],c[1]) │\n",
       "«q_4: ┤1                                 ├┤                                  ├\n",
       "«     └──────────────────────────────────┘│                                  │\n",
       "«q_5: ────────────────────────────────────┤1                                 ├\n",
       "«                                         └──────────────────────────────────┘</pre>"
      ],
      "text/plain": [
       "        ┌───┐    ┌──────────┐┌──────────────────────────────────┐»\n",
       "q_0: ───┤ X ├────┤ Rx(ax_0) ├┤0                                 ├»\n",
       "        ├───┤    ├──────────┤│                                  │»\n",
       "q_1: ───┤ X ├────┤ Rx(ax_1) ├┤                                  ├»\n",
       "        ├───┤    ├──────────┤│  ExcitationPreserving(a[0],a[1]) │»\n",
       "q_2: ───┤ X ├────┤ Rx(ax_2) ├┤                                  ├»\n",
       "     ┌──┴───┴───┐└──────────┘│                                  │»\n",
       "q_3: ┤ Rx(ax_3) ├────────────┤1                                 ├»\n",
       "     ├──────────┤            └──────────────────────────────────┘»\n",
       "q_4: ┤ Rx(ax_4) ├────────────────────────────────────────────────»\n",
       "     ├──────────┤                                                »\n",
       "q_5: ┤ Rx(ax_5) ├────────────────────────────────────────────────»\n",
       "     └──────────┘                                                »\n",
       "«                                                                             \n",
       "«q_0: ────────────────────────────────────────────────────────────────────────\n",
       "«     ┌──────────────────────────────────┐                                    \n",
       "«q_1: ┤0                                 ├────────────────────────────────────\n",
       "«     │                                  │┌──────────────────────────────────┐\n",
       "«q_2: ┤                                  ├┤0                                 ├\n",
       "«     │  ExcitationPreserving(b[0],b[1]) ││                                  │\n",
       "«q_3: ┤                                  ├┤                                  ├\n",
       "«     │                                  ││  ExcitationPreserving(c[0],c[1]) │\n",
       "«q_4: ┤1                                 ├┤                                  ├\n",
       "«     └──────────────────────────────────┘│                                  │\n",
       "«q_5: ────────────────────────────────────┤1                                 ├\n",
       "«                                         └──────────────────────────────────┘"
      ]
     },
     "execution_count": 9,
     "metadata": {},
     "output_type": "execute_result"
    }
   ],
   "source": [
    "SimplAns.draw()"
   ]
  },
  {
   "cell_type": "code",
   "execution_count": 15,
   "id": "7878317a-acd0-4e0b-aabb-8d78e0e7e6f7",
   "metadata": {},
   "outputs": [],
   "source": [
    "from qiskit.algorithms import MinimumEigensolver, VQEResult\n",
    "\n",
    "# Define a custome VQE class to orchestra the ansatz, classical optimizers, \n",
    "# initial point, callback, and final result\n",
    "class CustomVQE(MinimumEigensolver):\n",
    "    \n",
    "    def __init__(self, estimator, circuit, optimizer, callback=None):\n",
    "        self._estimator = estimator\n",
    "        self._circuit = circuit\n",
    "        self._optimizer = optimizer\n",
    "        self._callback = callback\n",
    "        \n",
    "    def compute_minimum_eigenvalue(self, operators, aux_operators=None):\n",
    "                \n",
    "        # Define objective function to classically minimize over\n",
    "        def objective(x):\n",
    "            # Execute job with estimator primitive\n",
    "            job = self._estimator.run([self._circuit], [operators], [x])\n",
    "            # Get results from jobs\n",
    "            est_result = job.result()\n",
    "            # Get the measured energy value\n",
    "            value = est_result.values[0]\n",
    "            # Save result information using callback function\n",
    "            if self._callback is not None:\n",
    "                self._callback(value)\n",
    "            return value\n",
    "            \n",
    "        # Select an initial point for the ansatzs' parameters\n",
    "        x0 = np.pi/4 * np.random.rand(self._circuit.num_parameters)\n",
    "        \n",
    "        # Run optimization\n",
    "        res = self._optimizer.minimize(objective, x0=x0)\n",
    "        \n",
    "        # Populate VQE result\n",
    "        result = VQEResult()\n",
    "        result.cost_function_evals = res.nfev\n",
    "        result.eigenvalue = res.fun\n",
    "        result.optimal_parameters = res.x\n",
    "        return result"
   ]
  },
  {
   "cell_type": "code",
   "execution_count": 40,
   "id": "90b8a935-480a-43a6-9680-358c9984b38f",
   "metadata": {},
   "outputs": [],
   "source": [
    "from qiskit.providers.aer import AerSimulator\n",
    "ansatz_opt = transpile(UCCSDAns, AerSimulator(), optimization_level =3)"
   ]
  },
  {
   "cell_type": "code",
   "execution_count": 41,
   "id": "67da4d61-fd46-45d4-8db7-6fb9ca09b1d7",
   "metadata": {},
   "outputs": [
    {
     "name": "stdout",
     "output_type": "stream",
     "text": [
      "UCCSD ANSATZ GATES:  OrderedDict([('cx', 212), ('u3', 76), ('rz', 39), ('h', 5), ('x', 3), ('ry', 1)])\n"
     ]
    }
   ],
   "source": [
    "print('UCCSD ANSATZ GATES: ', ansatz_opt.count_ops())"
   ]
  },
  {
   "cell_type": "code",
   "execution_count": 42,
   "id": "3473f736-27c7-417e-9964-12ba8d46808b",
   "metadata": {},
   "outputs": [],
   "source": [
    "from qiskit.primitives import Estimator\n",
    "import time"
   ]
  },
  {
   "cell_type": "code",
   "execution_count": 43,
   "id": "b39df184-25d2-47b5-83fe-f3e01d9f1512",
   "metadata": {},
   "outputs": [],
   "source": [
    "from qiskit.algorithms.optimizers import SPSA, COBYLA\n",
    "\n",
    "#optimizer = SPSA(maxiter=150)\n",
    "optimizer = COBYLA(maxiter=100)"
   ]
  },
  {
   "cell_type": "code",
   "execution_count": 44,
   "id": "73e9e2dd-cf9e-44e2-a01c-e209cdf5c298",
   "metadata": {},
   "outputs": [
    {
     "name": "stdout",
     "output_type": "stream",
     "text": [
      "{   'aux_operator_eigenvalues': None,\n",
      "    'cost_function_evals': 100,\n",
      "    'eigenstate': None,\n",
      "    'eigenvalue': -0.9736465564048785,\n",
      "    'optimal_circuit': None,\n",
      "    'optimal_parameters': array([ 1.60925428, -0.30987916, -0.11458733,  0.0674008 ,  1.9194157 ,\n",
      "        0.58481877,  0.61506078,  0.66792771]),\n",
      "    'optimal_point': None,\n",
      "    'optimal_value': None,\n",
      "    'optimizer_evals': None,\n",
      "    'optimizer_result': None,\n",
      "    'optimizer_time': None}\n",
      "execution time (s): 51.60\n"
     ]
    }
   ],
   "source": [
    "# Define instance of qiskit-terra's Estimator primitive\n",
    "estimator = Estimator([ansatz_opt], [qubit_op])\n",
    "# Setup VQE algorithm\n",
    "\n",
    "# Define a simple callback function\n",
    "intermediate_info = []\n",
    "def callback(value):\n",
    "        intermediate_info.append(value)\n",
    "\n",
    "custom_vqe = CustomVQE(estimator, ansatz_opt, optimizer, callback=callback)\n",
    "\n",
    "# Run the custom VQE function and monitor execution time\n",
    "start = time.time()\n",
    "res_sim = custom_vqe.compute_minimum_eigenvalue(qubit_op)\n",
    "end = time.time()\n",
    "\n",
    "print(res_sim)\n",
    "print(f'execution time (s): {end - start:.2f}')"
   ]
  },
  {
   "cell_type": "code",
   "execution_count": 45,
   "id": "9ff50336-1b99-4494-9d23-c62a5466c3cb",
   "metadata": {},
   "outputs": [
    {
     "data": {
      "image/png": "[encoded data removed]",
      "text/plain": [
       "<Figure size 640x480 with 1 Axes>"
      ]
     },
     "metadata": {},
     "output_type": "display_data"
    }
   ],
   "source": [
    "import matplotlib.pyplot as plt\n",
    "plt.plot(intermediate_info, color='purple', lw=2, label='Simulated VQE')\n",
    "plt.ylabel('Energy')\n",
    "plt.xlabel('Iterations')\n",
    "# Exact ground state energy value\n",
    "#plt.axhline(y=ana_gs, color=\"tab:red\", ls=\"--\", lw=2, label=\"Target: \" + str(ana_gs))\n",
    "plt.legend()\n",
    "plt.grid()\n",
    "plt.show()"
   ]
  },
  {
   "cell_type": "code",
   "execution_count": 46,
   "id": "0172fb5b-1aa9-43ee-84c7-900f2e4a402f",
   "metadata": {},
   "outputs": [
    {
     "name": "stdout",
     "output_type": "stream",
     "text": [
      "=== GROUND STATE ENERGY ===\n",
      " \n",
      "* Electronic ground state energy (Hartree): -18.593162419164\n",
      "  - computed part:      -0.973646556405\n",
      "  - FreezeCoreTransformer extracted energy part: -17.619515862759\n",
      "~ Nuclear repulsion energy (Hartree): 3.37181881021\n",
      "> Total ground state energy (Hartree): -15.221343608954\n",
      " \n",
      "=== MEASURED OBSERVABLES ===\n",
      " \n",
      " \n",
      "=== DIPOLE MOMENTS ===\n",
      " \n",
      "~ Nuclear dipole moment (a.u.): [15.1253679  0.0  0.0]\n",
      " \n"
     ]
    }
   ],
   "source": [
    "cmp_gs = problem.interpret(res_sim).total_energies[0].real\n",
    "print(problem.interpret(res_sim))"
   ]
  },
  {
   "cell_type": "code",
   "execution_count": 47,
   "id": "eac9fe2d-9b7d-4209-999d-c86da1bae0bf",
   "metadata": {},
   "outputs": [
    {
     "name": "stdout",
     "output_type": "stream",
     "text": [
      "-15.221343608954477\n",
      "-15.59503095223075\n",
      "2.3961949445366146\n"
     ]
    }
   ],
   "source": [
    "print(cmp_gs)\n",
    "print(ana_gs)\n",
    "print((ana_gs-cmp_gs)/ana_gs*100)"
   ]
  },
  {
   "cell_type": "code",
   "execution_count": 28,
   "id": "f73d7e6c-3208-4322-878d-1fec3eb0171f",
   "metadata": {},
   "outputs": [
    {
     "name": "stdout",
     "output_type": "stream",
     "text": [
      "SIMPLIFIED ANSATZ GATES:  OrderedDict([('rx', 6), ('rz', 6), ('x', 3)])\n"
     ]
    }
   ],
   "source": [
    "ansatz_opt = transpile(SimplAns, AerSimulator(), optimization_level =3)\n",
    "print('SIMPLIFIED ANSATZ GATES: ', ansatz_opt.count_ops())"
   ]
  },
  {
   "cell_type": "code",
   "execution_count": 29,
   "id": "28114b62-f891-4af7-87f4-693cc054df2d",
   "metadata": {},
   "outputs": [
    {
     "name": "stdout",
     "output_type": "stream",
     "text": [
      "{   'aux_operator_eigenvalues': None,\n",
      "    'cost_function_evals': 100,\n",
      "    'eigenstate': None,\n",
      "    'eigenvalue': -1.3120917664083032,\n",
      "    'optimal_circuit': None,\n",
      "    'optimal_parameters': array([ 1.67966712e+00,  1.67821915e+00,  1.20437983e-02, -6.34570763e-04,\n",
      "        1.20191948e-03, -8.11615802e-03,  8.26727590e-03, -4.56344986e-03,\n",
      "        1.92508556e+00,  3.94368106e-01,  6.67506794e-01,  1.32271533e+00]),\n",
      "    'optimal_point': None,\n",
      "    'optimal_value': None,\n",
      "    'optimizer_evals': None,\n",
      "    'optimizer_result': None,\n",
      "    'optimizer_time': None}\n",
      "execution time (s): 11.89\n"
     ]
    }
   ],
   "source": [
    "# Define instance of qiskit-terra's Estimator primitive\n",
    "estimator = Estimator([ansatz_opt], [qubit_op])\n",
    "# Setup VQE algorithm\n",
    "\n",
    "# Define a simple callback function\n",
    "intermediate_info = []\n",
    "def callback(value):\n",
    "        intermediate_info.append(value)\n",
    "\n",
    "custom_vqe = CustomVQE(estimator, ansatz_opt, optimizer, callback=callback)\n",
    "\n",
    "# Run the custom VQE function and monitor execution time\n",
    "start = time.time()\n",
    "res_sim = custom_vqe.compute_minimum_eigenvalue(qubit_op)\n",
    "end = time.time()\n",
    "\n",
    "print(res_sim)\n",
    "print(f'execution time (s): {end - start:.2f}')"
   ]
  },
  {
   "cell_type": "code",
   "execution_count": 30,
   "id": "d2bddce7-02b2-4e7f-b06f-784c043bc7ef",
   "metadata": {},
   "outputs": [
    {
     "data": {
      "image/png": "[encoded data removed]",
      "text/plain": [
       "<Figure size 640x480 with 1 Axes>"
      ]
     },
     "metadata": {},
     "output_type": "display_data"
    }
   ],
   "source": [
    "plt.plot(intermediate_info, color='purple', lw=2, label='Simulated VQE')\n",
    "plt.ylabel('Energy')\n",
    "plt.xlabel('Iterations')\n",
    "# Exact ground state energy value\n",
    "#plt.axhline(y=ana_gs, color=\"tab:red\", ls=\"--\", lw=2, label=\"Target: \" + str(ana_gs))\n",
    "plt.legend()\n",
    "plt.grid()\n",
    "plt.show()"
   ]
  },
  {
   "cell_type": "code",
   "execution_count": 32,
   "id": "99df9108-9c75-4a8d-9292-faca36cb174d",
   "metadata": {},
   "outputs": [
    {
     "name": "stdout",
     "output_type": "stream",
     "text": [
      "=== GROUND STATE ENERGY ===\n",
      " \n",
      "* Electronic ground state energy (Hartree): -18.931607629168\n",
      "  - computed part:      -1.312091766408\n",
      "  - FreezeCoreTransformer extracted energy part: -17.619515862759\n",
      "~ Nuclear repulsion energy (Hartree): 3.37181881021\n",
      "> Total ground state energy (Hartree): -15.559788818958\n",
      " \n",
      "=== MEASURED OBSERVABLES ===\n",
      " \n",
      " \n",
      "=== DIPOLE MOMENTS ===\n",
      " \n",
      "~ Nuclear dipole moment (a.u.): [15.1253679  0.0  0.0]\n",
      " \n"
     ]
    }
   ],
   "source": [
    "cmp_gs = problem.interpret(res_sim).total_energies[0].real\n",
    "print(problem.interpret(res_sim))"
   ]
  },
  {
   "cell_type": "code",
   "execution_count": 33,
   "id": "b7593d45-68f7-4249-82cd-29a443410d6d",
   "metadata": {},
   "outputs": [
    {
     "name": "stdout",
     "output_type": "stream",
     "text": [
      "-15.559788818957902\n",
      "-15.59503095223075\n",
      "0.2259830928248838\n"
     ]
    }
   ],
   "source": [
    "print(cmp_gs)\n",
    "print(ana_gs)\n",
    "print((ana_gs-cmp_gs)/ana_gs*100)"
   ]
  },
  {
   "cell_type": "code",
   "execution_count": 35,
   "id": "b9d4dc18-9d4f-443d-9945-69d2e91487d0",
   "metadata": {},
   "outputs": [
    {
     "name": "stdout",
     "output_type": "stream",
     "text": [
      "SIMPLIFIED ANSATZ GATES:  OrderedDict([('x', 3)])\n"
     ]
    }
   ],
   "source": [
    "ansatz_opt = transpile(HFAns, AerSimulator(), optimization_level =3)\n",
    "print('SIMPLIFIED ANSATZ GATES: ', ansatz_opt.count_ops())"
   ]
  },
  {
   "cell_type": "code",
   "execution_count": 36,
   "id": "bb42c074-6b08-4114-b211-6a8ec8ea5d8e",
   "metadata": {},
   "outputs": [
    {
     "name": "stdout",
     "output_type": "stream",
     "text": [
      "{   'aux_operator_eigenvalues': None,\n",
      "    'cost_function_evals': 1,\n",
      "    'eigenstate': None,\n",
      "    'eigenvalue': -1.3121413846412089,\n",
      "    'optimal_circuit': None,\n",
      "    'optimal_parameters': array([], dtype=float64),\n",
      "    'optimal_point': None,\n",
      "    'optimal_value': None,\n",
      "    'optimizer_evals': None,\n",
      "    'optimizer_result': None,\n",
      "    'optimizer_time': None}\n",
      "execution time (s): 0.10\n"
     ]
    }
   ],
   "source": [
    "# Define instance of qiskit-terra's Estimator primitive\n",
    "estimator = Estimator([ansatz_opt], [qubit_op])\n",
    "# Setup VQE algorithm\n",
    "\n",
    "# Define a simple callback function\n",
    "intermediate_info = []\n",
    "def callback(value):\n",
    "        intermediate_info.append(value)\n",
    "\n",
    "custom_vqe = CustomVQE(estimator, ansatz_opt, optimizer, callback=callback)\n",
    "\n",
    "# Run the custom VQE function and monitor execution time\n",
    "start = time.time()\n",
    "res_sim = custom_vqe.compute_minimum_eigenvalue(qubit_op)\n",
    "end = time.time()\n",
    "\n",
    "print(res_sim)\n",
    "print(f'execution time (s): {end - start:.2f}')"
   ]
  },
  {
   "cell_type": "code",
   "execution_count": 38,
   "id": "0c2b92af-599c-473d-85b7-f0edc8d5050d",
   "metadata": {},
   "outputs": [
    {
     "name": "stdout",
     "output_type": "stream",
     "text": [
      "=== GROUND STATE ENERGY ===\n",
      " \n",
      "* Electronic ground state energy (Hartree): -18.931657247401\n",
      "  - computed part:      -1.312141384641\n",
      "  - FreezeCoreTransformer extracted energy part: -17.619515862759\n",
      "~ Nuclear repulsion energy (Hartree): 3.37181881021\n",
      "> Total ground state energy (Hartree): -15.559838437191\n",
      " \n",
      "=== MEASURED OBSERVABLES ===\n",
      " \n",
      " \n",
      "=== DIPOLE MOMENTS ===\n",
      " \n",
      "~ Nuclear dipole moment (a.u.): [15.1253679  0.0  0.0]\n",
      " \n"
     ]
    }
   ],
   "source": [
    "cmp_gs = problem.interpret(res_sim).total_energies[0].real\n",
    "print(problem.interpret(res_sim))"
   ]
  },
  {
   "cell_type": "code",
   "execution_count": 39,
   "id": "786b9506-fab3-43f7-914c-b45a70f69b55",
   "metadata": {},
   "outputs": [
    {
     "name": "stdout",
     "output_type": "stream",
     "text": [
      "-15.559838437190805\n",
      "-15.59503095223075\n",
      "0.22566492588404402\n"
     ]
    }
   ],
   "source": [
    "print(cmp_gs)\n",
    "print(ana_gs)\n",
    "print((ana_gs-cmp_gs)/ana_gs*100)"
   ]
  },
  {
   "cell_type": "code",
   "execution_count": null,
   "id": "d3f8a0f4-00d1-4bbe-8793-4a6e515b555d",
   "metadata": {},
   "outputs": [],
   "source": []
  }
 ],
 "metadata": {
  "kernelspec": {
   "display_name": "Python 3 [Default]",
   "language": "python",
   "name": "python3"
  },
  "language_info": {
   "codemirror_mode": {
    "name": "ipython",
    "version": 3
   },
   "file_extension": ".py",
   "mimetype": "text/x-python",
   "name": "python",
   "nbconvert_exporter": "python",
   "pygments_lexer": "ipython3",
   "version": "3.9.10"
  }
 },
 "nbformat": 4,
 "nbformat_minor": 5
}
