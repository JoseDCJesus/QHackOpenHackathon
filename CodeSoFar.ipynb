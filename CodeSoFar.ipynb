# Importing standard Qiskit libraries
from qiskit import QuantumCircuit, transpile, Aer, IBMQ
from qiskit.tools.jupyter import *
from qiskit.visualization import *
from ibm_quantum_widgets import *
from qiskit.providers.aer import QasmSimulator
import pennylane as qml
from pennylane import numpy as np
# Loading your IBM Quantum account(s)
provider = IBMQ.load_account()

from qiskit_nature.second_q.drivers import PySCFDriver
from qiskit_nature.units import DistanceUnit
driver = PySCFDriver(
    atom="H 0 0 0; Be 0 0 1.333; H 0 0 2.666",
    basis="sto3g",
    charge=0,
    spin=0,
    unit=DistanceUnit.ANGSTROM,
)

problem = driver.run()

Hamil = problem.hamiltonian.second_q_op()


from qiskit_nature.second_q.algorithms import GroundStateEigensolver, NumPyMinimumEigensolverFactory
from qiskit_nature.second_q.mappers import JordanWignerMapper, QubitConverter, ParityMapper

solver = GroundStateEigensolver(
    QubitConverter(JordanWignerMapper()),
    NumPyMinimumEigensolverFactory(),
)

result = solver.solve(problem)
print(result.total_energies)
print(result)
gs_energy = float(result.groundenergy)
nuc_rep_energy = float(problem.hamiltonian.nuclear_repulsion_energy)

from qiskit_nature.drivers import Molecule
from qiskit_nature.drivers.second_quantization import (
    ElectronicStructureMoleculeDriver, ElectronicStructureDriverType)

# Define Molecule
molecule = Molecule(
    # Coordinates in Angstrom
    geometry=[
        ["H", [0.0, 0.0, 0.0]],
        ["Be", [1.33, 0.0, 0.0]],
        ["H", [2.66, 0.0, 0.0]]
    ],
    multiplicity=1,  # = 2*spin + 1
    charge=0,
)

driver = ElectronicStructureMoleculeDriver(
    molecule=molecule,
    basis="sto3g",
    driver_type=ElectronicStructureDriverType.PYSCF)

# Define Problem, Use freeze core approximation, remove orbitals.
from qiskit_nature.problems.second_quantization import ElectronicStructureProblem
from qiskit_nature.transformers.second_quantization.electronic import FreezeCoreTransformer
problem = ElectronicStructureProblem(
    driver,
    [FreezeCoreTransformer(freeze_core=True)])#, remove_orbitals=[-3,-2,-1,0])])

second_q_ops = problem.second_q_ops()  # Get 2nd Quant OP
num_spin_orbitals = problem.num_spin_orbitals
num_particles = problem.num_particles

#from qiskit.opflow import TwoQubitReduction
mapper = JordanWignerMapper()
converter = QubitConverter(mapper)
hamiltonian = second_q_ops['ElectronicEnergy']
qubit_op = converter.convert(hamiltonian)

from qiskit.circuit import Parameter

def excitation(i, j, circ):
    
    circ.rz(Parameter('θ_' + str(i)+'0'), i)
    circ.rz(Parameter('θ_' + str(j)+'1'), j)
    
    aux = Parameter('θ_' + str(i)+str(j))
    circ.rxx(aux, i,j)
    circ.ryy(aux, i,j)
            
    circ.rz(Parameter('θ_' + str(i)+'3'), i)
    circ.rz(Parameter('θ_' + str(j)+'4'), j)

var = QuantumCircuit(12)
for i in range(4):
    var.x(i)
    
excitation(0,4, var)
excitation(1,5, var)
excitation(2,6, var)
excitation(3,7, var)

from qiskit.algorithms.optimizers import SPSA

optimizer = SPSA(maxiter=150)

from qiskit.algorithms import MinimumEigensolver, VQEResult

# Define a custome VQE class to orchestra the ansatz, classical optimizers, 
# initial point, callback, and final result
class CustomVQE(MinimumEigensolver):
    
    def __init__(self, estimator, circuit, optimizer, callback=None):
        self._estimator = estimator
        self._circuit = circuit
        self._optimizer = optimizer
        self._callback = callback
        
    def compute_minimum_eigenvalue(self, operators, aux_operators=None):
                
        # Define objective function to classically minimize over
        def objective(x):
            # Execute job with estimator primitive
            job = self._estimator.run([self._circuit], [operators], [x])
            # Get results from jobs
            est_result = job.result()
            # Get the measured energy value
            value = est_result.values[0]
            # Save result information using callback function
            if self._callback is not None:
                self._callback(value)
            return value
            
        # Select an initial point for the ansatzs' parameters
        x0 = np.pi/4 * np.random.rand(self._circuit.num_parameters)
        
        # Run optimization
        res = self._optimizer.minimize(objective, x0=x0)
        
        # Populate VQE result
        result = VQEResult()
        result.cost_function_evals = res.nfev
        result.eigenvalue = res.fun
        result.optimal_parameters = res.x
        return result

# Define a simple callback function
intermediate_info = []
def callback(value):
        intermediate_info.append(value)

from qiskit_ibm_runtime import (QiskitRuntimeService, Session, Estimator as RuntimeEstimator)
import time

service = QiskitRuntimeService(channel='ibm_quantum')
# print available backend and select one
print('Simulators:', service.backends(simulator=True)[0])

# Select a simulator backend
backend = 'ibmq_qasm_simulator'

sim= service.backends(simulator=True)[0]

ansatz_opt = transpile(var, backend=sim)

# Setup Estimator (standard method)
start = time.time()
with Session(service=service, backend=backend) as session:
    #  Prepare primitive
    rt_estimator = RuntimeEstimator(session=session)
     # Set up algorithm
    custom_vqe = CustomVQE(rt_estimator, ansatz_opt, optimizer, callback=callback)
     # Run algorithm
    result = custom_vqe.compute_minimum_eigenvalue(qubit_op)
end = time.time()
print(f'execution time (s): {end - start:.2f}')

# Setup VQE algorithm
custom_vqe = CustomVQE(estimator, ansatz_opt, optimizer, callback=callback)

# Run the custom VQE function and monitor execution time
start = time()
result = custom_vqe.compute_minimum_eigenvalue(ham_16)
end = time()

print(result)
print(f'execution time (s): {end - start:.2f}')

cmp_gs = problem.interpret(result).total_energies[0].real
