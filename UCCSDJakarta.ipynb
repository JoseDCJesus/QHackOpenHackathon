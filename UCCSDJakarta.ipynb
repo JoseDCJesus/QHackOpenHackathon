{
 "cells": [
  {
   "cell_type": "code",
   "execution_count": 1,
   "id": "e6cb3370-3b17-4b0b-920f-69f5ff93662c",
   "metadata": {},
   "outputs": [
    {
     "name": "stderr",
     "output_type": "stream",
     "text": [
      "<frozen importlib._bootstrap>:219: RuntimeWarning: scipy._lib.messagestream.MessageStream size changed, may indicate binary incompatibility. Expected 56 from C header, got 64 from PyObject\n"
     ]
    }
   ],
   "source": [
    "import numpy as np\n",
    "\n",
    "# Importing standard Qiskit libraries\n",
    "from qiskit import QuantumCircuit, transpile, Aer, IBMQ\n",
    "from qiskit.tools.jupyter import *\n",
    "from qiskit.visualization import *\n",
    "from ibm_quantum_widgets import *\n",
    "from qiskit.providers.aer import QasmSimulator\n",
    "\n",
    "# Loading your IBM Quantum account(s)\n",
    "provider = IBMQ.load_account()"
   ]
  },
  {
   "cell_type": "code",
   "execution_count": 2,
   "id": "a78a1057-951b-4951-81ef-0b50bb96d777",
   "metadata": {},
   "outputs": [],
   "source": [
    "from qiskit_nature.second_q.drivers import PySCFDriver\n",
    "from qiskit_nature.units import DistanceUnit\n",
    "driver_ana = PySCFDriver(\n",
    "    atom=\"H 0 0 0; Be 0 0 1.333; H 0 0 2.666\",\n",
    "    basis=\"sto3g\",\n",
    "    charge=0,\n",
    "    spin=0,\n",
    "    unit=DistanceUnit.ANGSTROM,\n",
    ")"
   ]
  },
  {
   "cell_type": "code",
   "execution_count": 3,
   "id": "25dabd8d-daaf-4ffe-a4b8-f58f78599d6c",
   "metadata": {},
   "outputs": [],
   "source": [
    "from qiskit_nature.transformers.second_quantization.electronic import FreezeCoreTransformer\n",
    "from qiskit_nature.problems.second_quantization import ElectronicStructureProblem\n",
    "problem_ana = ElectronicStructureProblem(\n",
    "        driver_ana,\n",
    "        [FreezeCoreTransformer(freeze_core=True)])#,\n",
    "                               #remove_orbitals=[-3,-2])])"
   ]
  },
  {
   "cell_type": "code",
   "execution_count": 4,
   "id": "f32e8d2d-6210-4ef9-9de2-50820f4df64e",
   "metadata": {},
   "outputs": [],
   "source": [
    "problem_ana = driver_ana.run()"
   ]
  },
  {
   "cell_type": "code",
   "execution_count": 5,
   "id": "82d1dca2-663d-4acc-8fea-b124b863384c",
   "metadata": {},
   "outputs": [],
   "source": [
    "from qiskit_nature.second_q.algorithms import GroundStateEigensolver, NumPyMinimumEigensolverFactory\n",
    "from qiskit_nature.second_q.mappers import ParityMapper, JordanWignerMapper, QubitConverter\n",
    "\n",
    "solver = GroundStateEigensolver(\n",
    "    QubitConverter(ParityMapper()),\n",
    "    NumPyMinimumEigensolverFactory(),\n",
    ")"
   ]
  },
  {
   "cell_type": "code",
   "execution_count": 6,
   "id": "6ab584bb-ae15-4b21-bc3f-4784996a4c5a",
   "metadata": {},
   "outputs": [
    {
     "name": "stdout",
     "output_type": "stream",
     "text": [
      "=== GROUND STATE ENERGY ===\n",
      " \n",
      "* Electronic ground state energy (Hartree): -18.969402937823\n",
      "  - computed part:      -18.969402937823\n",
      "~ Nuclear repulsion energy (Hartree): 3.374348306692\n",
      "> Total ground state energy (Hartree): -15.595054631131\n",
      " \n",
      "=== MEASURED OBSERVABLES ===\n",
      " \n",
      "  0:  # Particles: 6.000 S: 0.000 S^2: 0.000 M: 0.000\n",
      " \n",
      "=== DIPOLE MOMENTS ===\n",
      " \n",
      "~ Nuclear dipole moment (a.u.): [0.0  0.0  15.11402954]\n",
      " \n",
      "  0: \n",
      "  * Electronic dipole moment (a.u.): [0.0  0.0  15.11402954]\n",
      "    - computed part:      [0.0  0.0  15.11402954]\n",
      "  > Dipole moment (a.u.): [0.0  0.0  0.0]  Total: 0.0\n",
      "                 (debye): [0.0  0.0  -0.00000001]  Total: 0.00000001\n",
      " \n"
     ]
    }
   ],
   "source": [
    "result = solver.solve(problem_ana)\n",
    "ana_gs = result.total_energies[0]\n",
    "print(result)"
   ]
  },
  {
   "cell_type": "code",
   "execution_count": 7,
   "id": "cb1b7642-9933-4715-974d-7cdaade93e59",
   "metadata": {},
   "outputs": [],
   "source": [
    "from qiskit_nature.drivers import Molecule\n",
    "from qiskit_nature.drivers.second_quantization import (\n",
    "    ElectronicStructureMoleculeDriver, ElectronicStructureDriverType)\n",
    "\n",
    "# Define Molecule\n",
    "molecule = Molecule(\n",
    "    # Coordinates in Angstrom\n",
    "    geometry=[\n",
    "        [\"H\", [0.0, 0.0, 0.0]],\n",
    "        [\"Be\", [1.33, 0.0, 0.0]],\n",
    "        [\"H\", [2.66, 0.0, 0.0]]\n",
    "    ],\n",
    "    multiplicity=1,  # = 2*spin + 1\n",
    "    charge=0,\n",
    ")\n",
    "\n",
    "driver = ElectronicStructureMoleculeDriver(\n",
    "    molecule=molecule,\n",
    "    basis=\"sto3g\",\n",
    "    driver_type=ElectronicStructureDriverType.PYSCF)"
   ]
  },
  {
   "cell_type": "code",
   "execution_count": 8,
   "id": "3c0e4870-f97b-4659-84e7-e31e87101a09",
   "metadata": {},
   "outputs": [],
   "source": [
    "# Define Problem, Use freeze core approximation, remove orbitals.\n",
    "from qiskit_nature.problems.second_quantization import ElectronicStructureProblem\n",
    "from qiskit_nature.transformers.second_quantization.electronic import FreezeCoreTransformer"
   ]
  },
  {
   "cell_type": "code",
   "execution_count": 9,
   "id": "0f3f368a-c55e-474e-8b65-ff0cafb6dfd1",
   "metadata": {},
   "outputs": [],
   "source": [
    "problem = ElectronicStructureProblem(\n",
    "    driver,\n",
    "    [FreezeCoreTransformer(freeze_core=True, remove_orbitals=[2,3])])\n",
    "\n",
    "second_q_ops = problem.second_q_ops()  # Get 2nd Quant OP\n",
    "num_spin_orbitals = problem.num_spin_orbitals\n",
    "num_particles = problem.num_particles"
   ]
  },
  {
   "cell_type": "code",
   "execution_count": 10,
   "id": "89d444de-9711-4250-aaaf-832a02b14576",
   "metadata": {},
   "outputs": [
    {
     "name": "stdout",
     "output_type": "stream",
     "text": [
      "8\n",
      "(1, 1)\n"
     ]
    }
   ],
   "source": [
    "print(num_spin_orbitals)\n",
    "print(num_particles)"
   ]
  },
  {
   "cell_type": "code",
   "execution_count": 11,
   "id": "67ec84f6-7a2e-4720-9963-2ce4b28637fb",
   "metadata": {},
   "outputs": [],
   "source": [
    "from qiskit.opflow import TwoQubitReduction\n",
    "mapper = ParityMapper()#JordanWignerMapper()\n",
    "converter = QubitConverter(mapper, two_qubit_reduction=True)\n",
    "hamiltonian = second_q_ops['ElectronicEnergy']\n",
    "qubit_op = converter.convert(hamiltonian)\n",
    "reducer = TwoQubitReduction(num_particles)\n",
    "qubit_op = reducer.convert(qubit_op)\n",
    "num_particles = num_particles\n",
    "num_spin_orbitals = num_spin_orbitals -2"
   ]
  },
  {
   "cell_type": "code",
   "execution_count": 12,
   "id": "fe22f0c4-7189-4c30-8c97-1bdde0e86c67",
   "metadata": {},
   "outputs": [
    {
     "data": {
      "text/plain": [
       "<qiskit.circuit.instructionset.InstructionSet at 0x7f0d9e8b8be0>"
      ]
     },
     "execution_count": 12,
     "metadata": {},
     "output_type": "execute_result"
    }
   ],
   "source": [
    "from qiskit_nature.second_q.circuit.library import UCCSD, HartreeFock\n",
    "\n",
    "var = HartreeFock(num_spin_orbitals//2, num_particles, converter)\n",
    "var.append( UCCSD(num_spin_orbitals//2, num_particles, converter), [i for i in range(num_spin_orbitals)])"
   ]
  },
  {
   "cell_type": "code",
   "execution_count": 13,
   "id": "5b8dc037-3fac-4fb6-ae30-60680b8abd93",
   "metadata": {},
   "outputs": [
    {
     "data": {
      "image/png": "[encoded data removed]",
      "text/plain": [
       "<Figure size 387.597x385.28 with 1 Axes>"
      ]
     },
     "execution_count": 13,
     "metadata": {},
     "output_type": "execute_result"
    }
   ],
   "source": [
    "var.draw()"
   ]
  },
  {
   "cell_type": "code",
   "execution_count": 31,
   "id": "69681c3d-5ca7-4ec1-a1b0-4f4eab94c3c9",
   "metadata": {},
   "outputs": [],
   "source": [
    "from qiskit_aer.noise import NoiseModel\n",
    "from qiskit.providers.aer import AerSimulator\n",
    "backend = provider.get_backend('ibmq_jakarta')\n",
    "backend_sim = AerSimulator.from_backend(backend)\n",
    "noise_model = NoiseModel.from_backend(backend)"
   ]
  },
  {
   "cell_type": "code",
   "execution_count": 16,
   "id": "98c2d2ad-e046-43ce-aeb8-ce77a02c82e2",
   "metadata": {},
   "outputs": [],
   "source": [
    "from qiskit.algorithms import MinimumEigensolver, VQEResult\n",
    "\n",
    "# Define a custome VQE class to orchestra the ansatz, classical optimizers, \n",
    "# initial point, callback, and final result\n",
    "class CustomVQE(MinimumEigensolver):\n",
    "    \n",
    "    def __init__(self, estimator, circuit, optimizer, callback=None):\n",
    "        self._estimator = estimator\n",
    "        self._circuit = circuit\n",
    "        self._optimizer = optimizer\n",
    "        self._callback = callback\n",
    "        \n",
    "    def compute_minimum_eigenvalue(self, operators, aux_operators=None):\n",
    "                \n",
    "        # Define objective function to classically minimize over\n",
    "        def objective(x):\n",
    "            # Execute job with estimator primitive\n",
    "            job = self._estimator.run([self._circuit], [operators], [x])\n",
    "            # Get results from jobs\n",
    "            est_result = job.result()\n",
    "            # Get the measured energy value\n",
    "            value = est_result.values[0]\n",
    "            # Save result information using callback function\n",
    "            if self._callback is not None:\n",
    "                self._callback(value)\n",
    "            return value\n",
    "            \n",
    "        # Select an initial point for the ansatzs' parameters\n",
    "        x0 = np.pi/4 * np.random.rand(self._circuit.num_parameters)\n",
    "        \n",
    "        # Run optimization\n",
    "        res = self._optimizer.minimize(objective, x0=x0)\n",
    "        \n",
    "        # Populate VQE result\n",
    "        result = VQEResult()\n",
    "        result.cost_function_evals = res.nfev\n",
    "        result.eigenvalue = res.fun\n",
    "        result.optimal_parameters = res.x\n",
    "        return result"
   ]
  },
  {
   "cell_type": "code",
   "execution_count": 17,
   "id": "1986bf35-87d5-4ac1-8bf5-1cc740d73ab3",
   "metadata": {},
   "outputs": [],
   "source": [
    "q_layout = [0,1,2,3,5,6]\n",
    "#ansatz_opt = transpile(var, backend=Aer.get_backend('aer_simulator'), initial_layout=q_layout)\n",
    "ansatz_opt = transpile(var, backend=backend_sim, initial_layout=q_layout, optimization_level =3)"
   ]
  },
  {
   "cell_type": "code",
   "execution_count": 18,
   "id": "605221c4-784f-4209-b65a-9275cdcca992",
   "metadata": {},
   "outputs": [],
   "source": [
    "from qiskit.primitives import Estimator\n",
    "import time"
   ]
  },
  {
   "cell_type": "code",
   "execution_count": 19,
   "id": "1ba43613-48e5-4c34-9cb0-f84b025dce72",
   "metadata": {},
   "outputs": [],
   "source": [
    "exp_qubit_op = []\n",
    "\n",
    "for i in range(len(qubit_op)):\n",
    "    aux = qubit_op[i].primitive.to_list()\n",
    "    #print(aux[0][0])\n",
    "    #print(aux[0][1])\n",
    "    aux1 = aux[0][0][:3]+'I'+aux[0][0][3:]\n",
    "    #print(aux1)\n",
    "    \n",
    "    exp_qubit_op.append((aux1, aux[0][1]))\n",
    "    \n",
    "from qiskit.opflow.primitive_ops import PauliSumOp\n",
    "\n",
    "auxP = PauliSumOp.from_list(exp_qubit_op)\n",
    "    "
   ]
  },
  {
   "cell_type": "code",
   "execution_count": 21,
   "id": "e360817c-a4eb-4595-8730-8b556a40e838",
   "metadata": {},
   "outputs": [],
   "source": [
    "from qiskit.algorithms.optimizers import SPSA, COBYLA\n",
    "\n",
    "#optimizer = SPSA(maxiter=150)\n",
    "optimizer = COBYLA(maxiter=100)"
   ]
  },
  {
   "cell_type": "code",
   "execution_count": 22,
   "id": "cd0693f4-3e39-45a6-b36e-dca30a20782b",
   "metadata": {},
   "outputs": [
    {
     "name": "stdout",
     "output_type": "stream",
     "text": [
      "{   'aux_operator_eigenvalues': None,\n",
      "    'cost_function_evals': 100,\n",
      "    'eigenstate': None,\n",
      "    'eigenvalue': -1.3139851053183502,\n",
      "    'optimal_circuit': None,\n",
      "    'optimal_parameters': array([ 3.14143459e+00,  8.68185282e-05,  1.57068777e+00, -2.08145470e-01,\n",
      "       -8.82191053e-01,  1.09014853e+00,  9.58739576e-01, -9.27454562e-04]),\n",
      "    'optimal_point': None,\n",
      "    'optimal_value': None,\n",
      "    'optimizer_evals': None,\n",
      "    'optimizer_result': None,\n",
      "    'optimizer_time': None}\n",
      "execution time (s): 30.27\n"
     ]
    }
   ],
   "source": [
    "# Define instance of qiskit-terra's Estimator primitive\n",
    "estimator = Estimator([ansatz_opt], [auxP])\n",
    "# Setup VQE algorithm\n",
    "\n",
    "# Define a simple callback function\n",
    "intermediate_info = []\n",
    "def callback(value):\n",
    "        intermediate_info.append(value)\n",
    "\n",
    "custom_vqe = CustomVQE(estimator, ansatz_opt, optimizer, callback=callback)\n",
    "\n",
    "# Run the custom VQE function and monitor execution time\n",
    "start = time.time()\n",
    "res_sim = custom_vqe.compute_minimum_eigenvalue(auxP)\n",
    "end = time.time()\n",
    "\n",
    "print(res_sim)\n",
    "print(f'execution time (s): {end - start:.2f}')"
   ]
  },
  {
   "cell_type": "code",
   "execution_count": 23,
   "id": "739fdf3f-75db-40a5-8432-30a07aed56dc",
   "metadata": {},
   "outputs": [
    {
     "data": {
      "image/png": "[encoded data removed]",
      "text/plain": [
       "<Figure size 432x288 with 1 Axes>"
      ]
     },
     "metadata": {
      "needs_background": "light"
     },
     "output_type": "display_data"
    }
   ],
   "source": [
    "import matplotlib.pyplot as plt\n",
    "plt.plot(intermediate_info, color='purple', lw=2, label='Simulated VQE')\n",
    "plt.ylabel('Energy')\n",
    "plt.xlabel('Iterations')\n",
    "# Exact ground state energy value\n",
    "#plt.axhline(y=ana_gs, color=\"tab:red\", ls=\"--\", lw=2, label=\"Target: \" + str(ana_gs))\n",
    "plt.legend()\n",
    "plt.grid()\n",
    "plt.show()"
   ]
  },
  {
   "cell_type": "code",
   "execution_count": 24,
   "id": "4ac96b98-0643-4d85-bfe0-d60f98b25d85",
   "metadata": {},
   "outputs": [
    {
     "name": "stdout",
     "output_type": "stream",
     "text": [
      "=== GROUND STATE ENERGY ===\n",
      " \n",
      "* Electronic ground state energy (Hartree): -18.942057982511\n",
      "  - computed part:      -1.313985105318\n",
      "  - FreezeCoreTransformer extracted energy part: -17.628072877192\n",
      "~ Nuclear repulsion energy (Hartree): 3.381959618662\n",
      "> Total ground state energy (Hartree): -15.560098363849\n",
      " \n",
      "=== MEASURED OBSERVABLES ===\n",
      " \n",
      " \n",
      "=== DIPOLE MOMENTS ===\n",
      " \n",
      "~ Nuclear dipole moment (a.u.): [15.08001447  0.0  0.0]\n",
      " \n"
     ]
    }
   ],
   "source": [
    "cmp_gs = problem.interpret(res_sim).total_energies[0].real\n",
    "print(problem.interpret(res_sim))"
   ]
  },
  {
   "cell_type": "code",
   "execution_count": 25,
   "id": "3cdbddc7-8713-4348-a2ea-19cabb6f6d6a",
   "metadata": {},
   "outputs": [
    {
     "name": "stdout",
     "output_type": "stream",
     "text": [
      "-15.560098363849027\n",
      "-15.59505463113102\n",
      "0.22414969430253295\n"
     ]
    }
   ],
   "source": [
    "print(cmp_gs)\n",
    "print(ana_gs)\n",
    "print((ana_gs-cmp_gs)/ana_gs*100)"
   ]
  },
  {
   "cell_type": "code",
   "execution_count": 26,
   "id": "9dc70c36-59aa-430f-92fb-20af722a3446",
   "metadata": {},
   "outputs": [],
   "source": [
    "from qiskit_ibm_runtime import QiskitRuntimeService, Session, Estimator as RuntimeEstimator, Options\n",
    "QiskitRuntimeService.save_account(channel=\"ibm_quantum\", token='7d51f5c5e5c7521015c58312ad6428df9fc7dcf957d3159dfba1f25c77afdbee41b8ae64d75b87285e51cd8d0b28c172a4a13c2491283414a1d489281fb5a2f1' ,overwrite=True)\n",
    "optimizer = COBYLA(maxiter=100)"
   ]
  },
  {
   "cell_type": "code",
   "execution_count": 36,
   "id": "be92ef71-91c9-4266-8538-2c2125b35faa",
   "metadata": {},
   "outputs": [
    {
     "name": "stdout",
     "output_type": "stream",
     "text": [
      "Backends: [<IBMBackend('ibmq_guadalupe')>, <IBMBackend('ibmq_qasm_simulator')>, <IBMBackend('ibmq_lima')>, <IBMBackend('ibmq_belem')>, <IBMBackend('ibmq_quito')>, <IBMBackend('simulator_statevector')>, <IBMBackend('simulator_mps')>, <IBMBackend('simulator_extended_stabilizer')>, <IBMBackend('simulator_stabilizer')>, <IBMBackend('ibmq_manila')>, <IBMBackend('ibm_nairobi')>, <IBMBackend('ibm_oslo')>, <IBMBackend('ibmq_jakarta')>, <IBMBackend('ibm_lagos')>, <IBMBackend('ibm_perth')>]\n",
      "Simulators: []\n"
     ]
    }
   ],
   "source": [
    "service = QiskitRuntimeService(channel='ibm_quantum')\n",
    "service = QiskitRuntimeService()\n",
    "# print available backend and select one\n",
    "print('Backends:', service.backends())\n",
    "print('Simulators:', service.backends(Simulator=True))\n",
    "\n",
    "# Select a simulator backend\n",
    "#backend_sim = 'ibmq_jakarta'\n",
    "#backend = service.get_backend('ibmq_jakarta')\n",
    "#print(provider.backends())\n",
    "#print(backend)"
   ]
  },
  {
   "cell_type": "code",
   "execution_count": 37,
   "id": "4e3674e2-1b2d-426e-8c2b-52ff0b24b88b",
   "metadata": {},
   "outputs": [
    {
     "name": "stdout",
     "output_type": "stream",
     "text": [
      "Simulators: [<IBMBackend('ibmq_qasm_simulator')>, <IBMBackend('simulator_statevector')>, <IBMBackend('simulator_mps')>, <IBMBackend('simulator_extended_stabilizer')>, <IBMBackend('simulator_stabilizer')>]\n"
     ]
    }
   ],
   "source": [
    "print('Simulators:', service.backends(simulator=True))"
   ]
  },
  {
   "cell_type": "code",
   "execution_count": 28,
   "id": "8353de3e-cfec-4c03-a4a0-31d453b0ded5",
   "metadata": {},
   "outputs": [],
   "source": [
    "# Define a simple callback function\n",
    "intermediate_info_run = []\n",
    "def callback_run(value):\n",
    "        intermediate_info_run.append(value)"
   ]
  },
  {
   "cell_type": "code",
   "execution_count": 29,
   "id": "99491bde-66a7-4d44-8c2d-279db5abaffb",
   "metadata": {},
   "outputs": [],
   "source": [
    "import signal, time\n",
    "\n",
    "from qiskit_ibm_runtime import Estimator, Session\n",
    "from qiskit.providers import JobStatus\n",
    "\n",
    "def timeout_handler(signum, frame):\n",
    "    raise Exception('Iteration timed out')\n",
    "    \n",
    "class RetryEstimator(Estimator):\n",
    "    \"\"\"RuntimeRetryEstimator class.\n",
    "    \n",
    "    This class inherits from Qiskit IBM Runtime's Estimator and overwrites its run method such that it retries calling it\n",
    "    a maximum of 'max_retries' consecutive times, if it encounters one of the following randomly occuring errors:\n",
    "    \n",
    "    * An Estimator error (in this case \"Job.ERROR\" is printed, and the job is cancelled automatically)\n",
    "    * A timeout error where the job either remains running or completes but does not return anything, for a time larger \n",
    "      than 'timeout' (in this case the job is cancelled by the patch and \"Job.CANCELLED\" is printed)\n",
    "    * A creation error, where the job fails to be created because connection is lost between the runtime server and the\n",
    "      quantum computer (in this case \"Failed to create job.\" is printed). If this error occurs, the patch connects the user\n",
    "      to a new Session (to be handled with care! also, this will unfortunately put the next job in the queue). \n",
    "    \"\"\"\n",
    "    \n",
    "    def __init__(self, *args, max_retries: int = 5, timeout: int = 3600, **kwargs) -> None:\n",
    "        super().__init__(*args, **kwargs)\n",
    "        self.max_retries = max_retries\n",
    "        self.timeout = timeout\n",
    "        self.backend = super().session._backend\n",
    "        signal.signal(signal.SIGALRM, timeout_handler)\n",
    "    \n",
    "    def run(self, circuits, observables, parameter_values, **kwargs):\n",
    "        result = None\n",
    "        for i in range(self.max_retries):\n",
    "            try:\n",
    "                job = super().run(circuits, observables, parameter_values, **kwargs)\n",
    "                while job.status() in [JobStatus.INITIALIZING, JobStatus.QUEUED, JobStatus.VALIDATING]:\n",
    "                    time.sleep(5) # Check every 5 seconds whether job status has changed\n",
    "                signal.alarm(self.timeout) # Once job starts running, set timeout to 1 hour by default\n",
    "                result = job.result()\n",
    "                if result is not None:\n",
    "                    signal.alarm(0) # reset timer\n",
    "                    return job\n",
    "            except Exception as e:\n",
    "                print(\"\\nSomething went wrong...\")\n",
    "                print(f\"\\n\\nERROR MESSAGE:\\n{e}\\n\\n\")\n",
    "                if 'job' in locals(): # Sometimes job fails to create\n",
    "                    print(f\"Job ID: {job.job_id}. Job status: {job.status()}.\")\n",
    "                    if job.status() not in [JobStatus.DONE, JobStatus.ERROR, JobStatus.CANCELLED]:\n",
    "                        job.cancel()\n",
    "                else:\n",
    "                    print(\"Failed to create job.\")\n",
    "                print(f\"Starting trial number {i+2}...\\n\")\n",
    "                print(f\"Creating new session...\\n\")\n",
    "                signal.alarm(0) # reset timer\n",
    "                super().session.close()\n",
    "                self._session = Session(backend=self.backend)\n",
    "        if result is None:\n",
    "            raise RuntimeError(f\"Program failed! Maximum number of retries ({self.max_retries}) exceeded\")"
   ]
  },
  {
   "cell_type": "code",
   "execution_count": 49,
   "id": "ac3916ca-a934-4852-9c38-cd1c6d6f10bb",
   "metadata": {},
   "outputs": [],
   "source": [
    "provider = IBMQ.get_provider(hub='qhack-event', group='main', project='level-1')\n",
    "provider.backends()\n",
    "backend = service.get_backend('ibmq_jakarta')"
   ]
  },
  {
   "cell_type": "code",
   "execution_count": 50,
   "id": "ef8d612a-476b-4281-bf4e-932e86def6a3",
   "metadata": {},
   "outputs": [
    {
     "name": "stdout",
     "output_type": "stream",
     "text": [
      "<IBMBackend('ibmq_jakarta')>\n"
     ]
    }
   ],
   "source": [
    "print(backend)"
   ]
  },
  {
   "cell_type": "code",
   "execution_count": 51,
   "id": "bfe8e414-a53c-49d1-ab03-ab0cb8234deb",
   "metadata": {},
   "outputs": [],
   "source": [
    "ansatz_opt = transpile(var, backend=backend, initial_layout=q_layout, optimization_level =3)"
   ]
  },
  {
   "cell_type": "code",
   "execution_count": 52,
   "id": "78eac13d-7e6e-457d-a812-093ef7bfa9c8",
   "metadata": {},
   "outputs": [],
   "source": [
    "options = Options()\n",
    "options.execution.shots = 1024\n",
    "options.optimization_level = 3\n",
    "options.resilience_level = 2"
   ]
  },
  {
   "cell_type": "code",
   "execution_count": 53,
   "id": "5678fb83-5e8d-47cf-bc0e-59eb4de8518d",
   "metadata": {},
   "outputs": [
    {
     "name": "stdout",
     "output_type": "stream",
     "text": [
      "execution time (s): 32547.62\n"
     ]
    }
   ],
   "source": [
    "start = time.time()\n",
    "with Session(service=service, backend=backend) as session:\n",
    "    #  Prepare primitive\n",
    "    rt_estimator = RetryEstimator(session=session, options=options)# RuntimeEstimator(session=session, options=options)\n",
    "     # Set up algorithm\n",
    "    custom_vqe = CustomVQE(rt_estimator, ansatz_opt, optimizer, callback=callback_run)\n",
    "     # Run algorithm\n",
    "    result = custom_vqe.compute_minimum_eigenvalue(auxP)\n",
    "end = time.time()\n",
    "print(f'execution time (s): {end - start:.2f}')"
   ]
  },
  {
   "cell_type": "code",
   "execution_count": 65,
   "id": "1aec2f2c-8ddb-414b-ad46-3d2b141bb8e7",
   "metadata": {},
   "outputs": [
    {
     "data": {
      "image/png": "[encoded data removed]",
      "text/plain": [
       "<Figure size 432x288 with 1 Axes>"
      ]
     },
     "metadata": {
      "needs_background": "light"
     },
     "output_type": "display_data"
    }
   ],
   "source": [
    "import matplotlib.pyplot as plt\n",
    "plt.plot(intermediate_info_run[82:], color='purple', lw=2, label='Simulated VQE')\n",
    "plt.ylabel('Energy')\n",
    "plt.xlabel('Iterations')\n",
    "# Exact ground state energy value\n",
    "#plt.axhline(y=ana_gs, color=\"tab:red\", ls=\"--\", lw=2, label=\"Target: \" + str(ana_gs))\n",
    "plt.legend()\n",
    "plt.grid()\n",
    "plt.show()"
   ]
  },
  {
   "cell_type": "code",
   "execution_count": 55,
   "id": "03f3ea3d-cf4f-4345-8469-f0f353d636b4",
   "metadata": {},
   "outputs": [
    {
     "name": "stdout",
     "output_type": "stream",
     "text": [
      "{   'aux_operator_eigenvalues': None,\n",
      "    'cost_function_evals': 77,\n",
      "    'eigenstate': None,\n",
      "    'eigenvalue': 1.1898456913653448,\n",
      "    'optimal_circuit': None,\n",
      "    'optimal_parameters': array([ 1.45819034,  0.60860944,  0.20149936,  0.49311779,  0.34769581,\n",
      "        0.2901075 ,  0.50119794, -0.24204399]),\n",
      "    'optimal_point': None,\n",
      "    'optimal_value': None,\n",
      "    'optimizer_evals': None,\n",
      "    'optimizer_result': None,\n",
      "    'optimizer_time': None}\n"
     ]
    }
   ],
   "source": [
    "print(result)"
   ]
  },
  {
   "cell_type": "code",
   "execution_count": 56,
   "id": "4dee7248-2744-4032-85aa-02560480ff4c",
   "metadata": {},
   "outputs": [
    {
     "name": "stdout",
     "output_type": "stream",
     "text": [
      "=== GROUND STATE ENERGY ===\n",
      " \n",
      "* Electronic ground state energy (Hartree): -16.438227185827\n",
      "  - computed part:      1.189845691365\n",
      "  - FreezeCoreTransformer extracted energy part: -17.628072877192\n",
      "~ Nuclear repulsion energy (Hartree): 3.381959618662\n",
      "> Total ground state energy (Hartree): -13.056267567165\n",
      " \n",
      "=== MEASURED OBSERVABLES ===\n",
      " \n",
      " \n",
      "=== DIPOLE MOMENTS ===\n",
      " \n",
      "~ Nuclear dipole moment (a.u.): [15.08001447  0.0  0.0]\n",
      " \n"
     ]
    }
   ],
   "source": [
    "res_gs = problem.interpret(result).total_energies[0].real\n",
    "print(problem.interpret(result))"
   ]
  },
  {
   "cell_type": "code",
   "execution_count": 57,
   "id": "52fc3bb2-d75a-4c2a-9adc-21bd468cbb14",
   "metadata": {},
   "outputs": [
    {
     "name": "stdout",
     "output_type": "stream",
     "text": [
      "-13.05626756716533\n",
      "-15.59505463113102\n",
      "16.279436808754333\n"
     ]
    }
   ],
   "source": [
    "print(res_gs)\n",
    "print(ana_gs)\n",
    "print((ana_gs-res_gs)/ana_gs*100)"
   ]
  }
 ],
 "metadata": {
  "kernelspec": {
   "display_name": "Python 3 (ipykernel)",
   "language": "python",
   "name": "python3"
  },
  "language_info": {
   "codemirror_mode": {
    "name": "ipython",
    "version": 3
   },
   "file_extension": ".py",
   "mimetype": "text/x-python",
   "name": "python",
   "nbconvert_exporter": "python",
   "pygments_lexer": "ipython3",
   "version": "3.8.15"
  },
  "widgets": {
   "application/vnd.jupyter.widget-state+json": {
    "state": {},
    "version_major": 2,
    "version_minor": 0
   }
  }
 },
 "nbformat": 4,
 "nbformat_minor": 5
}
