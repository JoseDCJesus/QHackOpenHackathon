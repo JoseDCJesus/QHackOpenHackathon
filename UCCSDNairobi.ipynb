{
 "cells": [
  {
   "cell_type": "code",
   "execution_count": 1,
   "id": "7c3dc7a1-d9e2-464f-a4dc-77dade094c2d",
   "metadata": {},
   "outputs": [
    {
     "name": "stderr",
     "output_type": "stream",
     "text": [
      "<frozen importlib._bootstrap>:219: RuntimeWarning: scipy._lib.messagestream.MessageStream size changed, may indicate binary incompatibility. Expected 56 from C header, got 64 from PyObject\n"
     ]
    }
   ],
   "source": [
    "import numpy as np\n",
    "\n",
    "# Importing standard Qiskit libraries\n",
    "from qiskit import QuantumCircuit, transpile, Aer, IBMQ\n",
    "from qiskit.tools.jupyter import *\n",
    "from qiskit.visualization import *\n",
    "from ibm_quantum_widgets import *\n",
    "from qiskit.providers.aer import QasmSimulator\n",
    "\n",
    "# Loading your IBM Quantum account(s)\n",
    "provider = IBMQ.load_account()"
   ]
  },
  {
   "cell_type": "code",
   "execution_count": 2,
   "id": "82f39919-67e9-4b86-a923-4743f9710174",
   "metadata": {},
   "outputs": [
    {
     "name": "stdout",
     "output_type": "stream",
     "text": [
      "[<AccountProvider for IBMQ(hub='ibm-q', group='open', project='main')>, <AccountProvider for IBMQ(hub='ibm-q-community', group='ibmquantumawards', project='open-science-22')>, <AccountProvider for IBMQ(hub='deloitte-event23', group='level-1-access', project='the-entangled-ca')>, <AccountProvider for IBMQ(hub='qhack-event', group='main', project='level-1')>]\n"
     ]
    }
   ],
   "source": [
    "print(IBMQ.providers())"
   ]
  },
  {
   "cell_type": "code",
   "execution_count": 3,
   "id": "22879e80-e0db-4854-a657-bc74c4532cf4",
   "metadata": {},
   "outputs": [
    {
     "name": "stdout",
     "output_type": "stream",
     "text": [
      "[<IBMQSimulator('ibmq_qasm_simulator') from IBMQ(hub='ibm-q', group='open', project='main')>, <IBMQBackend('ibmq_lima') from IBMQ(hub='ibm-q', group='open', project='main')>, <IBMQBackend('ibmq_belem') from IBMQ(hub='ibm-q', group='open', project='main')>, <IBMQBackend('ibmq_quito') from IBMQ(hub='ibm-q', group='open', project='main')>, <IBMQSimulator('simulator_statevector') from IBMQ(hub='ibm-q', group='open', project='main')>, <IBMQSimulator('simulator_mps') from IBMQ(hub='ibm-q', group='open', project='main')>, <IBMQSimulator('simulator_extended_stabilizer') from IBMQ(hub='ibm-q', group='open', project='main')>, <IBMQSimulator('simulator_stabilizer') from IBMQ(hub='ibm-q', group='open', project='main')>, <IBMQBackend('ibmq_jakarta') from IBMQ(hub='ibm-q', group='open', project='main')>, <IBMQBackend('ibmq_manila') from IBMQ(hub='ibm-q', group='open', project='main')>, <IBMQBackend('ibm_lagos') from IBMQ(hub='ibm-q', group='open', project='main')>, <IBMQBackend('ibm_nairobi') from IBMQ(hub='ibm-q', group='open', project='main')>, <IBMQBackend('ibm_perth') from IBMQ(hub='ibm-q', group='open', project='main')>, <IBMQBackend('ibm_oslo') from IBMQ(hub='ibm-q', group='open', project='main')>]\n"
     ]
    }
   ],
   "source": [
    "print(provider.backends())"
   ]
  },
  {
   "cell_type": "code",
   "execution_count": 4,
   "id": "208b2224-a319-42b3-bd30-854deed48b14",
   "metadata": {},
   "outputs": [],
   "source": [
    "from qiskit_nature.second_q.drivers import PySCFDriver\n",
    "from qiskit_nature.units import DistanceUnit\n",
    "driver_ana = PySCFDriver(\n",
    "    atom=\"H 0 0 0; Be 0 0 1.333; H 0 0 2.666\",\n",
    "    basis=\"sto3g\",\n",
    "    charge=0,\n",
    "    spin=0,\n",
    "    unit=DistanceUnit.ANGSTROM,\n",
    ")"
   ]
  },
  {
   "cell_type": "code",
   "execution_count": 5,
   "id": "555a534e-e86f-4c5d-b66a-f823eca382ae",
   "metadata": {},
   "outputs": [],
   "source": [
    "from qiskit_nature.transformers.second_quantization.electronic import FreezeCoreTransformer\n",
    "from qiskit_nature.problems.second_quantization import ElectronicStructureProblem\n",
    "problem_ana = ElectronicStructureProblem(\n",
    "        driver_ana,\n",
    "        [FreezeCoreTransformer(freeze_core=True)])#,\n",
    "                               #remove_orbitals=[-3,-2])])"
   ]
  },
  {
   "cell_type": "code",
   "execution_count": 6,
   "id": "d9381707-2185-4ab4-a538-67924437606d",
   "metadata": {},
   "outputs": [],
   "source": [
    "problem_ana = driver_ana.run()"
   ]
  },
  {
   "cell_type": "code",
   "execution_count": 7,
   "id": "d6c10cde-7572-4514-b732-21c4eb77567a",
   "metadata": {},
   "outputs": [],
   "source": [
    "from qiskit_nature.second_q.algorithms import GroundStateEigensolver, NumPyMinimumEigensolverFactory\n",
    "from qiskit_nature.second_q.mappers import ParityMapper, JordanWignerMapper, QubitConverter\n",
    "\n",
    "solver = GroundStateEigensolver(\n",
    "    QubitConverter(ParityMapper()),\n",
    "    NumPyMinimumEigensolverFactory(),\n",
    ")"
   ]
  },
  {
   "cell_type": "code",
   "execution_count": 8,
   "id": "de8e319b-35e2-4407-8e7a-9904e93d6e88",
   "metadata": {},
   "outputs": [
    {
     "name": "stdout",
     "output_type": "stream",
     "text": [
      "=== GROUND STATE ENERGY ===\n",
      " \n",
      "* Electronic ground state energy (Hartree): -18.969402937822\n",
      "  - computed part:      -18.969402937822\n",
      "~ Nuclear repulsion energy (Hartree): 3.374348306692\n",
      "> Total ground state energy (Hartree): -15.595054631131\n",
      " \n",
      "=== MEASURED OBSERVABLES ===\n",
      " \n",
      "  0:  # Particles: 6.000 S: 0.000 S^2: 0.000 M: 0.000\n",
      " \n",
      "=== DIPOLE MOMENTS ===\n",
      " \n",
      "~ Nuclear dipole moment (a.u.): [0.0  0.0  15.11402954]\n",
      " \n",
      "  0: \n",
      "  * Electronic dipole moment (a.u.): [0.0  0.0  15.11402954]\n",
      "    - computed part:      [0.0  0.0  15.11402954]\n",
      "  > Dipole moment (a.u.): [0.0  0.0  0.0]  Total: 0.0\n",
      "                 (debye): [0.0  0.0  -0.00000001]  Total: 0.00000001\n",
      " \n"
     ]
    }
   ],
   "source": [
    "result = solver.solve(problem_ana)\n",
    "ana_gs = result.total_energies[0]\n",
    "print(result)"
   ]
  },
  {
   "cell_type": "code",
   "execution_count": 9,
   "id": "c3c9defe-3351-4269-b4dd-468f38a098bf",
   "metadata": {},
   "outputs": [],
   "source": [
    "from qiskit_nature.drivers import Molecule\n",
    "from qiskit_nature.drivers.second_quantization import (\n",
    "    ElectronicStructureMoleculeDriver, ElectronicStructureDriverType)\n",
    "\n",
    "# Define Molecule\n",
    "molecule = Molecule(\n",
    "    # Coordinates in Angstrom\n",
    "    geometry=[\n",
    "        [\"H\", [0.0, 0.0, 0.0]],\n",
    "        [\"Be\", [1.33, 0.0, 0.0]],\n",
    "        [\"H\", [2.66, 0.0, 0.0]]\n",
    "    ],\n",
    "    multiplicity=1,  # = 2*spin + 1\n",
    "    charge=0,\n",
    ")\n",
    "\n",
    "driver = ElectronicStructureMoleculeDriver(\n",
    "    molecule=molecule,\n",
    "    basis=\"sto3g\",\n",
    "    driver_type=ElectronicStructureDriverType.PYSCF)"
   ]
  },
  {
   "cell_type": "code",
   "execution_count": 10,
   "id": "f824894f-e787-4496-a3bd-5d564b36336f",
   "metadata": {},
   "outputs": [],
   "source": [
    "# Define Problem, Use freeze core approximation, remove orbitals.\n",
    "from qiskit_nature.problems.second_quantization import ElectronicStructureProblem\n",
    "from qiskit_nature.transformers.second_quantization.electronic import FreezeCoreTransformer"
   ]
  },
  {
   "cell_type": "code",
   "execution_count": 11,
   "id": "a6a90af7-e044-4d67-9e7f-90ac688acebd",
   "metadata": {},
   "outputs": [],
   "source": [
    "problem = ElectronicStructureProblem(\n",
    "    driver,\n",
    "    [FreezeCoreTransformer(freeze_core=True, remove_orbitals=[2,3])])\n",
    "\n",
    "second_q_ops = problem.second_q_ops()  # Get 2nd Quant OP\n",
    "num_spin_orbitals = problem.num_spin_orbitals\n",
    "num_particles = problem.num_particles"
   ]
  },
  {
   "cell_type": "code",
   "execution_count": 12,
   "id": "52e13499-0b33-4379-a6fc-d36218343f23",
   "metadata": {},
   "outputs": [
    {
     "name": "stdout",
     "output_type": "stream",
     "text": [
      "8\n",
      "(1, 1)\n"
     ]
    }
   ],
   "source": [
    "print(num_spin_orbitals)\n",
    "print(num_particles)"
   ]
  },
  {
   "cell_type": "code",
   "execution_count": 13,
   "id": "28f990ee-561f-479e-8e5f-99a5e7975be4",
   "metadata": {},
   "outputs": [],
   "source": [
    "from qiskit.opflow import TwoQubitReduction\n",
    "mapper = ParityMapper()#JordanWignerMapper()\n",
    "converter = QubitConverter(mapper, two_qubit_reduction=True)\n",
    "hamiltonian = second_q_ops['ElectronicEnergy']\n",
    "qubit_op = converter.convert(hamiltonian)\n",
    "reducer = TwoQubitReduction(num_particles)\n",
    "qubit_op = reducer.convert(qubit_op)"
   ]
  },
  {
   "cell_type": "code",
   "execution_count": 14,
   "id": "46de0af6-4c03-4552-a11c-4f4abcf2f34a",
   "metadata": {},
   "outputs": [
    {
     "name": "stdout",
     "output_type": "stream",
     "text": [
      "1.1884215753592071 * IIIIII\n"
     ]
    }
   ],
   "source": [
    "print(qubit_op[0])"
   ]
  },
  {
   "cell_type": "code",
   "execution_count": 15,
   "id": "4dc8ae97-f239-4a31-ba12-79474d7d03c8",
   "metadata": {},
   "outputs": [],
   "source": [
    "num_particles = num_particles\n",
    "num_spin_orbitals = num_spin_orbitals -2"
   ]
  },
  {
   "cell_type": "code",
   "execution_count": 16,
   "id": "b32ecc85-7060-4c9d-b8e1-3e9f201c5615",
   "metadata": {},
   "outputs": [
    {
     "name": "stdout",
     "output_type": "stream",
     "text": [
      "6\n"
     ]
    }
   ],
   "source": [
    "print(num_spin_orbitals)"
   ]
  },
  {
   "cell_type": "code",
   "execution_count": 17,
   "id": "c594e44f-53b1-47d0-960d-43320f926f44",
   "metadata": {},
   "outputs": [
    {
     "data": {
      "text/plain": [
       "<qiskit.circuit.instructionset.InstructionSet at 0x7f7c8c8c1040>"
      ]
     },
     "execution_count": 17,
     "metadata": {},
     "output_type": "execute_result"
    }
   ],
   "source": [
    "from qiskit_nature.second_q.circuit.library import UCCSD, HartreeFock\n",
    "\n",
    "var = HartreeFock(num_spin_orbitals//2, num_particles, converter)\n",
    "var.append( UCCSD(num_spin_orbitals//2, num_particles, converter), [i for i in range(num_spin_orbitals)])"
   ]
  },
  {
   "cell_type": "code",
   "execution_count": 18,
   "id": "1ebd4d63-d137-4093-abfb-c7ae521e2991",
   "metadata": {},
   "outputs": [
    {
     "data": {
      "image/png": "[encoded data removed]",
      "text/plain": [
       "<Figure size 387.597x385.28 with 1 Axes>"
      ]
     },
     "execution_count": 18,
     "metadata": {},
     "output_type": "execute_result"
    }
   ],
   "source": [
    "var.draw()"
   ]
  },
  {
   "cell_type": "code",
   "execution_count": 19,
   "id": "cd49a226-8c4d-4bca-ad20-e08da876a97c",
   "metadata": {},
   "outputs": [],
   "source": [
    "from qiskit.algorithms.optimizers import SPSA, COBYLA\n",
    "\n",
    "#optimizer = SPSA(maxiter=150)\n",
    "optimizer = COBYLA(maxiter=100)"
   ]
  },
  {
   "cell_type": "code",
   "execution_count": 20,
   "id": "c39484d3-311e-4a9a-abe2-3e7f1753c217",
   "metadata": {},
   "outputs": [
    {
     "name": "stderr",
     "output_type": "stream",
     "text": [
      "/opt/conda/lib/python3.8/site-packages/qiskit_aer/noise/device/models.py:365: UserWarning: Device model returned an invalid T_2 relaxation time greater than the theoretical maximum value 2 * T_1 (111046.63515353423 > 2 * 36235.41022172717). Truncating to maximum value.\n",
      "  warn(\"Device model returned an invalid T_2 relaxation time greater than\"\n",
      "/opt/conda/lib/python3.8/site-packages/qiskit_aer/noise/device/models.py:365: UserWarning: Device model returned an invalid T_2 relaxation time greater than the theoretical maximum value 2 * T_1 (111046.63515353423 > 2 * 36235.41022172717). Truncating to maximum value.\n",
      "  warn(\"Device model returned an invalid T_2 relaxation time greater than\"\n",
      "/opt/conda/lib/python3.8/site-packages/qiskit_aer/noise/device/models.py:365: UserWarning: Device model returned an invalid T_2 relaxation time greater than the theoretical maximum value 2 * T_1 (111046.63515353423 > 2 * 36235.41022172717). Truncating to maximum value.\n",
      "  warn(\"Device model returned an invalid T_2 relaxation time greater than\"\n",
      "/opt/conda/lib/python3.8/site-packages/qiskit_aer/noise/device/models.py:365: UserWarning: Device model returned an invalid T_2 relaxation time greater than the theoretical maximum value 2 * T_1 (111046.63515353423 > 2 * 36235.41022172717). Truncating to maximum value.\n",
      "  warn(\"Device model returned an invalid T_2 relaxation time greater than\"\n",
      "/opt/conda/lib/python3.8/site-packages/qiskit_aer/noise/device/models.py:365: UserWarning: Device model returned an invalid T_2 relaxation time greater than the theoretical maximum value 2 * T_1 (111046.63515353423 > 2 * 36235.41022172717). Truncating to maximum value.\n",
      "  warn(\"Device model returned an invalid T_2 relaxation time greater than\"\n",
      "/opt/conda/lib/python3.8/site-packages/qiskit_aer/noise/device/models.py:365: UserWarning: Device model returned an invalid T_2 relaxation time greater than the theoretical maximum value 2 * T_1 (111046.63515353423 > 2 * 36235.41022172717). Truncating to maximum value.\n",
      "  warn(\"Device model returned an invalid T_2 relaxation time greater than\"\n",
      "/opt/conda/lib/python3.8/site-packages/qiskit_aer/noise/device/models.py:365: UserWarning: Device model returned an invalid T_2 relaxation time greater than the theoretical maximum value 2 * T_1 (0.00011104663515353423 > 2 * 3.6235410221727174e-05). Truncating to maximum value.\n",
      "  warn(\"Device model returned an invalid T_2 relaxation time greater than\"\n",
      "/opt/conda/lib/python3.8/site-packages/qiskit_aer/noise/device/models.py:365: UserWarning: Device model returned an invalid T_2 relaxation time greater than the theoretical maximum value 2 * T_1 (111046.63515353423 > 2 * 36235.41022172717). Truncating to maximum value.\n",
      "  warn(\"Device model returned an invalid T_2 relaxation time greater than\"\n",
      "/opt/conda/lib/python3.8/site-packages/qiskit_aer/noise/device/models.py:365: UserWarning: Device model returned an invalid T_2 relaxation time greater than the theoretical maximum value 2 * T_1 (111046.63515353423 > 2 * 36235.41022172717). Truncating to maximum value.\n",
      "  warn(\"Device model returned an invalid T_2 relaxation time greater than\"\n",
      "/opt/conda/lib/python3.8/site-packages/qiskit_aer/noise/device/models.py:365: UserWarning: Device model returned an invalid T_2 relaxation time greater than the theoretical maximum value 2 * T_1 (111046.63515353423 > 2 * 36235.41022172717). Truncating to maximum value.\n",
      "  warn(\"Device model returned an invalid T_2 relaxation time greater than\"\n",
      "/opt/conda/lib/python3.8/site-packages/qiskit_aer/noise/device/models.py:365: UserWarning: Device model returned an invalid T_2 relaxation time greater than the theoretical maximum value 2 * T_1 (111046.63515353423 > 2 * 36235.41022172717). Truncating to maximum value.\n",
      "  warn(\"Device model returned an invalid T_2 relaxation time greater than\"\n",
      "/opt/conda/lib/python3.8/site-packages/qiskit_aer/noise/device/models.py:365: UserWarning: Device model returned an invalid T_2 relaxation time greater than the theoretical maximum value 2 * T_1 (111046.63515353423 > 2 * 36235.41022172717). Truncating to maximum value.\n",
      "  warn(\"Device model returned an invalid T_2 relaxation time greater than\"\n",
      "/opt/conda/lib/python3.8/site-packages/qiskit_aer/noise/device/models.py:365: UserWarning: Device model returned an invalid T_2 relaxation time greater than the theoretical maximum value 2 * T_1 (111046.63515353423 > 2 * 36235.41022172717). Truncating to maximum value.\n",
      "  warn(\"Device model returned an invalid T_2 relaxation time greater than\"\n",
      "/opt/conda/lib/python3.8/site-packages/qiskit_aer/noise/device/models.py:365: UserWarning: Device model returned an invalid T_2 relaxation time greater than the theoretical maximum value 2 * T_1 (0.00011104663515353423 > 2 * 3.6235410221727174e-05). Truncating to maximum value.\n",
      "  warn(\"Device model returned an invalid T_2 relaxation time greater than\"\n"
     ]
    }
   ],
   "source": [
    "from qiskit_aer.noise import NoiseModel\n",
    "from qiskit.providers.aer import AerSimulator\n",
    "backend = provider.get_backend('ibm_nairobi')\n",
    "backend_sim = AerSimulator.from_backend(backend)\n",
    "noise_model = NoiseModel.from_backend(backend)"
   ]
  },
  {
   "cell_type": "code",
   "execution_count": 21,
   "id": "0d81567c-07c6-42ee-80ad-ed8f5ca4c6b5",
   "metadata": {},
   "outputs": [],
   "source": [
    "from qiskit.algorithms import MinimumEigensolver, VQEResult\n",
    "\n",
    "# Define a custome VQE class to orchestra the ansatz, classical optimizers, \n",
    "# initial point, callback, and final result\n",
    "class CustomVQE(MinimumEigensolver):\n",
    "    \n",
    "    def __init__(self, estimator, circuit, optimizer, callback=None):\n",
    "        self._estimator = estimator\n",
    "        self._circuit = circuit\n",
    "        self._optimizer = optimizer\n",
    "        self._callback = callback\n",
    "        \n",
    "    def compute_minimum_eigenvalue(self, operators, aux_operators=None):\n",
    "                \n",
    "        # Define objective function to classically minimize over\n",
    "        def objective(x):\n",
    "            # Execute job with estimator primitive\n",
    "            job = self._estimator.run([self._circuit], [operators], [x])\n",
    "            # Get results from jobs\n",
    "            est_result = job.result()\n",
    "            # Get the measured energy value\n",
    "            value = est_result.values[0]\n",
    "            # Save result information using callback function\n",
    "            if self._callback is not None:\n",
    "                self._callback(value)\n",
    "            return value\n",
    "            \n",
    "        # Select an initial point for the ansatzs' parameters\n",
    "        x0 = np.pi/4 * np.random.rand(self._circuit.num_parameters)\n",
    "        \n",
    "        # Run optimization\n",
    "        res = self._optimizer.minimize(objective, x0=x0)\n",
    "        \n",
    "        # Populate VQE result\n",
    "        result = VQEResult()\n",
    "        result.cost_function_evals = res.nfev\n",
    "        result.eigenvalue = res.fun\n",
    "        result.optimal_parameters = res.x\n",
    "        return result"
   ]
  },
  {
   "cell_type": "code",
   "execution_count": 22,
   "id": "c5bee98f-adef-4274-a60c-ae080d9e931f",
   "metadata": {},
   "outputs": [],
   "source": [
    "q_layout = [0,1,2,3,5,6]\n",
    "#ansatz_opt = transpile(var, backend=Aer.get_backend('aer_simulator'), initial_layout=q_layout)\n",
    "ansatz_opt = transpile(var, backend=backend_sim, initial_layout=q_layout, optimization_level =3)"
   ]
  },
  {
   "cell_type": "code",
   "execution_count": 23,
   "id": "29207a45-8408-4a41-9675-8510183b3284",
   "metadata": {},
   "outputs": [],
   "source": [
    "#print(backend_sim.properties)"
   ]
  },
  {
   "cell_type": "code",
   "execution_count": 24,
   "id": "116c2664-6d2b-4469-b08d-d8ed837d6630",
   "metadata": {},
   "outputs": [],
   "source": [
    "from qiskit.primitives import Estimator\n",
    "import time"
   ]
  },
  {
   "cell_type": "code",
   "execution_count": 25,
   "id": "eb994925-30d3-4aa1-98e3-b20043c93d35",
   "metadata": {},
   "outputs": [],
   "source": [
    "exp_qubit_op = []\n",
    "\n",
    "for i in range(len(qubit_op)):\n",
    "    aux = qubit_op[i].primitive.to_list()\n",
    "    #print(aux[0][0])\n",
    "    #print(aux[0][1])\n",
    "    aux1 = aux[0][0][:3]+'I'+aux[0][0][3:]\n",
    "    #print(aux1)\n",
    "    \n",
    "    exp_qubit_op.append((aux1, aux[0][1]))\n",
    "    \n",
    "from qiskit.opflow.primitive_ops import PauliSumOp\n",
    "\n",
    "auxP = PauliSumOp.from_list(exp_qubit_op)\n",
    "    "
   ]
  },
  {
   "cell_type": "code",
   "execution_count": 26,
   "id": "a51ad839-b377-4dfe-a347-999cbf8580cc",
   "metadata": {},
   "outputs": [],
   "source": [
    "estimator = Estimator([ansatz_opt], [auxP])\n",
    "#print(help(estimator.run))\n"
   ]
  },
  {
   "cell_type": "code",
   "execution_count": 27,
   "id": "9cc0c210-779a-4121-acef-0737e4a3b499",
   "metadata": {},
   "outputs": [
    {
     "name": "stdout",
     "output_type": "stream",
     "text": [
      "{   'aux_operator_eigenvalues': None,\n",
      "    'cost_function_evals': 100,\n",
      "    'eigenstate': None,\n",
      "    'eigenvalue': -1.3139824137601879,\n",
      "    'optimal_circuit': None,\n",
      "    'optimal_parameters': array([-2.13827630e-05,  1.38608193e-03,  1.57063779e+00,  2.67672704e-01,\n",
      "       -3.98060523e-01,  1.63215550e+00,  7.83812143e-01,  4.10541347e-01]),\n",
      "    'optimal_point': None,\n",
      "    'optimal_value': None,\n",
      "    'optimizer_evals': None,\n",
      "    'optimizer_result': None,\n",
      "    'optimizer_time': None}\n",
      "execution time (s): 21.54\n"
     ]
    }
   ],
   "source": [
    "# Define instance of qiskit-terra's Estimator primitive\n",
    "\n",
    "# Setup VQE algorithm\n",
    "\n",
    "# Define a simple callback function\n",
    "intermediate_info = []\n",
    "def callback(value):\n",
    "        intermediate_info.append(value)\n",
    "\n",
    "custom_vqe = CustomVQE(estimator, ansatz_opt, optimizer, callback=callback)\n",
    "\n",
    "# Run the custom VQE function and monitor execution time\n",
    "start = time.time()\n",
    "res_sim = custom_vqe.compute_minimum_eigenvalue(auxP)\n",
    "end = time.time()\n",
    "\n",
    "print(res_sim)\n",
    "print(f'execution time (s): {end - start:.2f}')"
   ]
  },
  {
   "cell_type": "code",
   "execution_count": 28,
   "id": "ea090f73-3387-4b31-9076-74ec823f9de7",
   "metadata": {},
   "outputs": [
    {
     "data": {
      "image/png": "[encoded data removed]",
      "text/plain": [
       "<Figure size 432x288 with 1 Axes>"
      ]
     },
     "metadata": {
      "needs_background": "light"
     },
     "output_type": "display_data"
    }
   ],
   "source": [
    "import matplotlib.pyplot as plt\n",
    "plt.plot(intermediate_info, color='purple', lw=2, label='Simulated VQE')\n",
    "plt.ylabel('Energy')\n",
    "plt.xlabel('Iterations')\n",
    "# Exact ground state energy value\n",
    "#plt.axhline(y=ana_gs, color=\"tab:red\", ls=\"--\", lw=2, label=\"Target: \" + str(ana_gs))\n",
    "plt.legend()\n",
    "plt.grid()\n",
    "plt.show()"
   ]
  },
  {
   "cell_type": "code",
   "execution_count": 29,
   "id": "3241334d-e598-418b-abbb-6dfa4e7f928e",
   "metadata": {},
   "outputs": [
    {
     "name": "stdout",
     "output_type": "stream",
     "text": [
      "=== GROUND STATE ENERGY ===\n",
      " \n",
      "* Electronic ground state energy (Hartree): -18.942055290953\n",
      "  - computed part:      -1.31398241376\n",
      "  - FreezeCoreTransformer extracted energy part: -17.628072877192\n",
      "~ Nuclear repulsion energy (Hartree): 3.381959618662\n",
      "> Total ground state energy (Hartree): -15.560095672291\n",
      " \n",
      "=== MEASURED OBSERVABLES ===\n",
      " \n",
      " \n",
      "=== DIPOLE MOMENTS ===\n",
      " \n",
      "~ Nuclear dipole moment (a.u.): [15.08001447  0.0  0.0]\n",
      " \n"
     ]
    }
   ],
   "source": [
    "cmp_gs = problem.interpret(res_sim).total_energies[0].real\n",
    "print(problem.interpret(res_sim))"
   ]
  },
  {
   "cell_type": "code",
   "execution_count": 30,
   "id": "21dca8ee-c1e8-4424-bd20-ebe01a284451",
   "metadata": {},
   "outputs": [
    {
     "name": "stdout",
     "output_type": "stream",
     "text": [
      "-15.560095672290862\n",
      "-15.595054631130782\n",
      "0.22416695335030065\n"
     ]
    }
   ],
   "source": [
    "print(cmp_gs)\n",
    "print(ana_gs)\n",
    "print((ana_gs-cmp_gs)/ana_gs*100)"
   ]
  },
  {
   "cell_type": "code",
   "execution_count": 31,
   "id": "32ef5f5f-9601-43fc-88b1-eb2dd2216846",
   "metadata": {},
   "outputs": [],
   "source": [
    "from qiskit_ibm_runtime import QiskitRuntimeService, Session, Estimator as RuntimeEstimator, Options\n",
    "QiskitRuntimeService.save_account(channel=\"ibm_quantum\", token='7d51f5c5e5c7521015c58312ad6428df9fc7dcf957d3159dfba1f25c77afdbee41b8ae64d75b87285e51cd8d0b28c172a4a13c2491283414a1d489281fb5a2f1' ,overwrite=True)\n",
    "optimizer = COBYLA(maxiter=100)"
   ]
  },
  {
   "cell_type": "code",
   "execution_count": 32,
   "id": "a0c812b5-c12c-4b68-b334-3b8329b0380e",
   "metadata": {},
   "outputs": [
    {
     "name": "stdout",
     "output_type": "stream",
     "text": [
      "Backends: [<IBMBackend('ibmq_guadalupe')>, <IBMBackend('ibmq_qasm_simulator')>, <IBMBackend('ibmq_lima')>, <IBMBackend('ibmq_belem')>, <IBMBackend('ibmq_quito')>, <IBMBackend('simulator_statevector')>, <IBMBackend('simulator_mps')>, <IBMBackend('simulator_extended_stabilizer')>, <IBMBackend('simulator_stabilizer')>, <IBMBackend('ibmq_manila')>, <IBMBackend('ibm_nairobi')>, <IBMBackend('ibm_oslo')>, <IBMBackend('ibmq_jakarta')>, <IBMBackend('ibm_lagos')>, <IBMBackend('ibm_perth')>]\n",
      "[<IBMQSimulator('ibmq_qasm_simulator') from IBMQ(hub='ibm-q', group='open', project='main')>, <IBMQBackend('ibmq_lima') from IBMQ(hub='ibm-q', group='open', project='main')>, <IBMQBackend('ibmq_belem') from IBMQ(hub='ibm-q', group='open', project='main')>, <IBMQBackend('ibmq_quito') from IBMQ(hub='ibm-q', group='open', project='main')>, <IBMQSimulator('simulator_statevector') from IBMQ(hub='ibm-q', group='open', project='main')>, <IBMQSimulator('simulator_mps') from IBMQ(hub='ibm-q', group='open', project='main')>, <IBMQSimulator('simulator_extended_stabilizer') from IBMQ(hub='ibm-q', group='open', project='main')>, <IBMQSimulator('simulator_stabilizer') from IBMQ(hub='ibm-q', group='open', project='main')>, <IBMQBackend('ibmq_jakarta') from IBMQ(hub='ibm-q', group='open', project='main')>, <IBMQBackend('ibmq_manila') from IBMQ(hub='ibm-q', group='open', project='main')>, <IBMQBackend('ibm_lagos') from IBMQ(hub='ibm-q', group='open', project='main')>, <IBMQBackend('ibm_nairobi') from IBMQ(hub='ibm-q', group='open', project='main')>, <IBMQBackend('ibm_perth') from IBMQ(hub='ibm-q', group='open', project='main')>, <IBMQBackend('ibm_oslo') from IBMQ(hub='ibm-q', group='open', project='main')>]\n",
      "<IBMBackend('ibm_nairobi')>\n"
     ]
    }
   ],
   "source": [
    "service = QiskitRuntimeService(channel='ibm_quantum')\n",
    "#service = QiskitRuntimeService()\n",
    "# print available backend and select one\n",
    "#print('Backends:', service.backends())\n",
    "\n",
    "# Select a simulator backend\n",
    "backend_sim = 'ibmq_jakarta'\n",
    "backend = service.get_backend('ibm_nairobi')\n",
    "print(provider.backends())\n",
    "print(backend)"
   ]
  },
  {
   "cell_type": "code",
   "execution_count": 34,
   "id": "1f2e847c-f589-4bdf-b861-02879f63796a",
   "metadata": {},
   "outputs": [],
   "source": [
    "# Define a simple callback function\n",
    "intermediate_info_run = []\n",
    "def callback_run(value):\n",
    "        intermediate_info_run.append(value)"
   ]
  },
  {
   "cell_type": "code",
   "execution_count": 35,
   "id": "1284d17b-eaa6-4c93-ab81-8d2ffbafabe2",
   "metadata": {},
   "outputs": [],
   "source": [
    "import signal, time\n",
    "\n",
    "from qiskit_ibm_runtime import Estimator, Session\n",
    "from qiskit.providers import JobStatus\n",
    "\n",
    "def timeout_handler(signum, frame):\n",
    "    raise Exception('Iteration timed out')\n",
    "    \n",
    "class RetryEstimator(Estimator):\n",
    "    \"\"\"RuntimeRetryEstimator class.\n",
    "    \n",
    "    This class inherits from Qiskit IBM Runtime's Estimator and overwrites its run method such that it retries calling it\n",
    "    a maximum of 'max_retries' consecutive times, if it encounters one of the following randomly occuring errors:\n",
    "    \n",
    "    * An Estimator error (in this case \"Job.ERROR\" is printed, and the job is cancelled automatically)\n",
    "    * A timeout error where the job either remains running or completes but does not return anything, for a time larger \n",
    "      than 'timeout' (in this case the job is cancelled by the patch and \"Job.CANCELLED\" is printed)\n",
    "    * A creation error, where the job fails to be created because connection is lost between the runtime server and the\n",
    "      quantum computer (in this case \"Failed to create job.\" is printed). If this error occurs, the patch connects the user\n",
    "      to a new Session (to be handled with care! also, this will unfortunately put the next job in the queue). \n",
    "    \"\"\"\n",
    "    \n",
    "    def __init__(self, *args, max_retries: int = 5, timeout: int = 3600, **kwargs) -> None:\n",
    "        super().__init__(*args, **kwargs)\n",
    "        self.max_retries = max_retries\n",
    "        self.timeout = timeout\n",
    "        self.backend = super().session._backend\n",
    "        signal.signal(signal.SIGALRM, timeout_handler)\n",
    "    \n",
    "    def run(self, circuits, observables, parameter_values, **kwargs):\n",
    "        result = None\n",
    "        for i in range(self.max_retries):\n",
    "            try:\n",
    "                job = super().run(circuits, observables, parameter_values, **kwargs)\n",
    "                while job.status() in [JobStatus.INITIALIZING, JobStatus.QUEUED, JobStatus.VALIDATING]:\n",
    "                    time.sleep(5) # Check every 5 seconds whether job status has changed\n",
    "                signal.alarm(self.timeout) # Once job starts running, set timeout to 1 hour by default\n",
    "                result = job.result()\n",
    "                if result is not None:\n",
    "                    signal.alarm(0) # reset timer\n",
    "                    return job\n",
    "            except Exception as e:\n",
    "                print(\"\\nSomething went wrong...\")\n",
    "                print(f\"\\n\\nERROR MESSAGE:\\n{e}\\n\\n\")\n",
    "                if 'job' in locals(): # Sometimes job fails to create\n",
    "                    print(f\"Job ID: {job.job_id}. Job status: {job.status()}.\")\n",
    "                    if job.status() not in [JobStatus.DONE, JobStatus.ERROR, JobStatus.CANCELLED]:\n",
    "                        job.cancel()\n",
    "                else:\n",
    "                    print(\"Failed to create job.\")\n",
    "                print(f\"Starting trial number {i+2}...\\n\")\n",
    "                print(f\"Creating new session...\\n\")\n",
    "                signal.alarm(0) # reset timer\n",
    "                super().session.close()\n",
    "                self._session = Session(backend=self.backend)\n",
    "        if result is None:\n",
    "            raise RuntimeError(f\"Program failed! Maximum number of retries ({self.max_retries}) exceeded\")"
   ]
  },
  {
   "cell_type": "code",
   "execution_count": 36,
   "id": "975c3d31-8470-4d8a-8450-7d7a498ab76c",
   "metadata": {},
   "outputs": [
    {
     "data": {
      "text/plain": [
       "[<IBMQBackend('ibmq_jakarta') from IBMQ(hub='qhack-event', group='main', project='level-1')>,\n",
       " <IBMQBackend('ibm_nairobi') from IBMQ(hub='qhack-event', group='main', project='level-1')>]"
      ]
     },
     "execution_count": 36,
     "metadata": {},
     "output_type": "execute_result"
    }
   ],
   "source": [
    "provider = IBMQ.get_provider(hub='qhack-event', group='main', project='level-1')\n",
    "provider.backends()"
   ]
  },
  {
   "cell_type": "code",
   "execution_count": 49,
   "id": "90dac173-e71e-442d-950b-560a6d635588",
   "metadata": {},
   "outputs": [
    {
     "name": "stdout",
     "output_type": "stream",
     "text": [
      "<AccountProvider for IBMQ(hub='qhack-event', group='main', project='level-1')>\n",
      "[<IBMQBackend('ibmq_jakarta') from IBMQ(hub='qhack-event', group='main', project='level-1')>, <IBMQBackend('ibm_nairobi') from IBMQ(hub='qhack-event', group='main', project='level-1')>]\n"
     ]
    }
   ],
   "source": [
    "provider = IBMQ.get_provider(hub='qhack-event', group='main', project='level-1')\n",
    "print(provider)\n",
    "print(provider.backends())"
   ]
  },
  {
   "cell_type": "code",
   "execution_count": 63,
   "id": "71658033-5f58-4213-a546-f6cfd6ba3d07",
   "metadata": {},
   "outputs": [
    {
     "name": "stdout",
     "output_type": "stream",
     "text": [
      "<IBMBackend('ibm_nairobi')>\n"
     ]
    }
   ],
   "source": [
    "from qiskit_ibm_runtime import QiskitRuntimeService\n",
    "\n",
    "# Save your credentials on disk.\n",
    "# QiskitRuntimeService.save_account(channel='ibm_quantum', token=<IBM Quantum API key>)\n",
    "\n",
    "service = QiskitRuntimeService(\n",
    "    channel='ibm_quantum',\n",
    "    instance='qhack-event/main/level-1',\n",
    ")\n",
    "backend = backend = service.get_backend('ibm_nairobi')\n",
    "print(backend)"
   ]
  },
  {
   "cell_type": "code",
   "execution_count": 73,
   "id": "67e66021-3e5d-43a4-a32f-ad770cfbfc8d",
   "metadata": {},
   "outputs": [],
   "source": [
    "ansatz_opt = transpile(var, backend=backend, initial_layout=q_layout, optimization_level =3)"
   ]
  },
  {
   "cell_type": "code",
   "execution_count": 74,
   "id": "a2b43510-7780-4324-b532-5e3e973a0d06",
   "metadata": {},
   "outputs": [],
   "source": [
    "options = Options()\n",
    "options.execution.shots = 1024\n",
    "options.optimization_level = 3\n",
    "options.resilience_level = 2\n",
    "\n",
    "optimizer = COBYLA(maxiter=200)"
   ]
  },
  {
   "cell_type": "code",
   "execution_count": null,
   "id": "af7f348b-450d-4664-84b7-a45ac1dff6d6",
   "metadata": {},
   "outputs": [],
   "source": [
    "start = time.time()\n",
    "with Session(service=service, backend=backend) as session:\n",
    "    #  Prepare primitive\n",
    "    rt_estimator = RetryEstimator(session=session, options=options)# RuntimeEstimator(session=session, options=options)\n",
    "     # Set up algorithm\n",
    "    custom_vqe = CustomVQE(rt_estimator, ansatz_opt, optimizer, callback=callback_run)\n",
    "     # Run algorithm\n",
    "    result = custom_vqe.compute_minimum_eigenvalue(auxP)\n",
    "end = time.time()\n",
    "print(f'execution time (s): {end - start:.2f}')"
   ]
  },
  {
   "cell_type": "code",
   "execution_count": 67,
   "id": "046a754f-515a-4f04-9048-1d80862e2777",
   "metadata": {},
   "outputs": [
    {
     "name": "stdout",
     "output_type": "stream",
     "text": [
      "{   'aux_operator_eigenvalues': None,\n",
      "    'cost_function_evals': 67,\n",
      "    'eigenstate': None,\n",
      "    'eigenvalue': 1.1080362455938813,\n",
      "    'optimal_circuit': None,\n",
      "    'optimal_parameters': array([0.30293118, 1.03113884, 1.33733697, 0.37919774, 0.73357273,\n",
      "       0.30990183, 0.35861309, 0.66872672]),\n",
      "    'optimal_point': None,\n",
      "    'optimal_value': None,\n",
      "    'optimizer_evals': None,\n",
      "    'optimizer_result': None,\n",
      "    'optimizer_time': None}\n"
     ]
    }
   ],
   "source": [
    "print(result)"
   ]
  },
  {
   "cell_type": "code",
   "execution_count": 68,
   "id": "049d4a7a-cb60-4fe4-8234-4837bdea238f",
   "metadata": {},
   "outputs": [
    {
     "data": {
      "image/png": "[encoded data removed]",
      "text/plain": [
       "<Figure size 432x288 with 1 Axes>"
      ]
     },
     "metadata": {
      "needs_background": "light"
     },
     "output_type": "display_data"
    }
   ],
   "source": [
    "import matplotlib.pyplot as plt\n",
    "plt.plot(intermediate_info_run, color='purple', lw=2, label='Simulated VQE')\n",
    "plt.ylabel('Energy')\n",
    "plt.xlabel('Iterations')\n",
    "# Exact ground state energy value\n",
    "#plt.axhline(y=ana_gs, color=\"tab:red\", ls=\"--\", lw=2, label=\"Target: \" + str(ana_gs))\n",
    "plt.legend()\n",
    "plt.grid()\n",
    "plt.show()"
   ]
  },
  {
   "cell_type": "code",
   "execution_count": 69,
   "id": "26bb2fd7-2ee0-4259-ba5a-523b59af557d",
   "metadata": {},
   "outputs": [
    {
     "name": "stdout",
     "output_type": "stream",
     "text": [
      "=== GROUND STATE ENERGY ===\n",
      " \n",
      "* Electronic ground state energy (Hartree): -16.520036631598\n",
      "  - computed part:      1.108036245594\n",
      "  - FreezeCoreTransformer extracted energy part: -17.628072877192\n",
      "~ Nuclear repulsion energy (Hartree): 3.381959618662\n",
      "> Total ground state energy (Hartree): -13.138077012937\n",
      " \n",
      "=== MEASURED OBSERVABLES ===\n",
      " \n",
      " \n",
      "=== DIPOLE MOMENTS ===\n",
      " \n",
      "~ Nuclear dipole moment (a.u.): [15.08001447  0.0  0.0]\n",
      " \n"
     ]
    }
   ],
   "source": [
    "res_gs = problem.interpret(result).total_energies[0].real\n",
    "print(problem.interpret(result))"
   ]
  },
  {
   "cell_type": "code",
   "execution_count": 70,
   "id": "70c978a4-0ecc-4db8-b0c4-88d94a51194a",
   "metadata": {},
   "outputs": [
    {
     "name": "stdout",
     "output_type": "stream",
     "text": [
      "-13.138077012936796\n",
      "-15.595054631130782\n",
      "15.75485098519231\n"
     ]
    }
   ],
   "source": [
    "print(res_gs)\n",
    "print(ana_gs)\n",
    "print((ana_gs-res_gs)/ana_gs*100)"
   ]
  },
  {
   "cell_type": "code",
   "execution_count": 71,
   "id": "d95e6d27-4571-4fc5-a578-d5089dd76930",
   "metadata": {},
   "outputs": [],
   "source": [
    "f = open('Ans1_Nairobi.txt', 'a', newline = '\\n')\n",
    "f.write(str(intermediate_info_run))\n",
    "f.write('\\n')\n",
    "f.write(str(problem.interpret(result)))\n",
    "f.write('\\n')\n",
    "f.write(str(result))\n",
    "f.close()"
   ]
  },
  {
   "cell_type": "code",
   "execution_count": null,
   "id": "7ebac2f2-53e8-4732-ae49-379a126f0227",
   "metadata": {},
   "outputs": [],
   "source": []
  }
 ],
 "metadata": {
  "kernelspec": {
   "display_name": "Python 3 (ipykernel)",
   "language": "python",
   "name": "python3"
  },
  "language_info": {
   "codemirror_mode": {
    "name": "ipython",
    "version": 3
   },
   "file_extension": ".py",
   "mimetype": "text/x-python",
   "name": "python",
   "nbconvert_exporter": "python",
   "pygments_lexer": "ipython3",
   "version": "3.8.15"
  },
  "widgets": {
   "application/vnd.jupyter.widget-state+json": {
    "state": {},
    "version_major": 2,
    "version_minor": 0
   }
  }
 },
 "nbformat": 4,
 "nbformat_minor": 5
}
