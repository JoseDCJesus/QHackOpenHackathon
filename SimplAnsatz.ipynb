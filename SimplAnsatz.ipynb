{
 "cells": [
  {
   "cell_type": "code",
   "execution_count": 22,
   "id": "7027973b-480f-46dc-b379-d1f42540540c",
   "metadata": {},
   "outputs": [
    {
     "name": "stderr",
     "output_type": "stream",
     "text": [
      "ibmqfactory.load_account:WARNING:2023-02-27 20:27:42,315: Credentials are already in use. The existing account in the session will be replaced.\n"
     ]
    }
   ],
   "source": [
    "import numpy as np\n",
    "\n",
    "# Importing standard Qiskit libraries\n",
    "from qiskit import QuantumCircuit, transpile, Aer, IBMQ\n",
    "from qiskit.tools.jupyter import *\n",
    "from qiskit.visualization import *\n",
    "from ibm_quantum_widgets import *\n",
    "from qiskit.providers.aer import QasmSimulator\n",
    "\n",
    "# Loading your IBM Quantum account(s)\n",
    "provider = IBMQ.load_account()"
   ]
  },
  {
   "cell_type": "code",
   "execution_count": 23,
   "id": "fa9edb6a-7bdf-480b-99a1-e765a73ca677",
   "metadata": {},
   "outputs": [],
   "source": [
    "from qiskit_nature.second_q.drivers import PySCFDriver\n",
    "from qiskit_nature.units import DistanceUnit\n",
    "driver_ana = PySCFDriver(\n",
    "    atom=\"H 0 0 0; Be 0 0 1.334; H 0 0 2.668\",\n",
    "    basis=\"sto3g\",\n",
    "    charge=0,\n",
    "    spin=0,\n",
    "    unit=DistanceUnit.ANGSTROM,\n",
    ")"
   ]
  },
  {
   "cell_type": "code",
   "execution_count": 24,
   "id": "a2aebcd4-06d1-4d33-9806-7ee357e3395a",
   "metadata": {},
   "outputs": [],
   "source": [
    "from qiskit_nature.transformers.second_quantization.electronic import FreezeCoreTransformer\n",
    "from qiskit_nature.problems.second_quantization import ElectronicStructureProblem\n",
    "problem_ana = ElectronicStructureProblem(\n",
    "        driver_ana,\n",
    "        [FreezeCoreTransformer(freeze_core=True)])#,\n",
    "                               #remove_orbitals=[-3,-2])])"
   ]
  },
  {
   "cell_type": "code",
   "execution_count": 25,
   "id": "a3dab56e-c824-4eb2-8037-1f00817fa4e6",
   "metadata": {},
   "outputs": [],
   "source": [
    "problem_ana = driver_ana.run()"
   ]
  },
  {
   "cell_type": "code",
   "execution_count": 26,
   "id": "5f5cbf7b-f2d3-47f6-925c-5c4386f8845b",
   "metadata": {},
   "outputs": [],
   "source": [
    "from qiskit_nature.second_q.algorithms import GroundStateEigensolver, NumPyMinimumEigensolverFactory\n",
    "from qiskit_nature.second_q.mappers import ParityMapper, JordanWignerMapper, QubitConverter\n",
    "\n",
    "solver = GroundStateEigensolver(\n",
    "    QubitConverter(ParityMapper()),\n",
    "    NumPyMinimumEigensolverFactory(),\n",
    ")"
   ]
  },
  {
   "cell_type": "code",
   "execution_count": 27,
   "id": "e7358346-5542-405d-ab8f-cce70d6ef163",
   "metadata": {},
   "outputs": [
    {
     "name": "stdout",
     "output_type": "stream",
     "text": [
      "=== GROUND STATE ENERGY ===\n",
      " \n",
      "* Electronic ground state energy (Hartree): -18.966849762441\n",
      "  - computed part:      -18.966849762441\n",
      "~ Nuclear repulsion energy (Hartree): 3.37181881021\n",
      "> Total ground state energy (Hartree): -15.595030952231\n",
      " \n",
      "=== MEASURED OBSERVABLES ===\n",
      " \n",
      "  0:  # Particles: 6.000 S: 0.000 S^2: 0.000 M: 0.000\n",
      " \n",
      "=== DIPOLE MOMENTS ===\n",
      " \n",
      "~ Nuclear dipole moment (a.u.): [0.0  0.0  15.1253679]\n",
      " \n",
      "  0: \n",
      "  * Electronic dipole moment (a.u.): [0.0  0.0  15.1253679]\n",
      "    - computed part:      [0.0  0.0  15.1253679]\n",
      "  > Dipole moment (a.u.): [0.0  0.0  0.0]  Total: 0.0\n",
      "                 (debye): [0.0  0.0  0.0]  Total: 0.0\n",
      " \n"
     ]
    }
   ],
   "source": [
    "result = solver.solve(problem_ana)\n",
    "ana_gs = result.total_energies[0]\n",
    "print(result)"
   ]
  },
  {
   "cell_type": "code",
   "execution_count": 28,
   "id": "57b46127-09e4-49fe-889d-0301d8024685",
   "metadata": {},
   "outputs": [],
   "source": [
    "from qiskit_nature.drivers import Molecule\n",
    "from qiskit_nature.drivers.second_quantization import (\n",
    "    ElectronicStructureMoleculeDriver, ElectronicStructureDriverType)\n",
    "\n",
    "# Define Molecule\n",
    "molecule = Molecule(\n",
    "    # Coordinates in Angstrom\n",
    "    geometry=[\n",
    "        [\"H\", [0.0, 0.0, 0.0]],\n",
    "        [\"Be\", [1.334, 0.0, 0.0]],\n",
    "        [\"H\", [2.668, 0.0, 0.0]]\n",
    "    ],\n",
    "    multiplicity=1,  # = 2*spin + 1\n",
    "    charge=0,\n",
    ")\n",
    "\n",
    "driver = ElectronicStructureMoleculeDriver(\n",
    "    molecule=molecule,\n",
    "    basis=\"sto3g\",\n",
    "    driver_type=ElectronicStructureDriverType.PYSCF)"
   ]
  },
  {
   "cell_type": "code",
   "execution_count": 29,
   "id": "aa92e739-4240-4876-bf44-e4ebf1c6ad8e",
   "metadata": {},
   "outputs": [],
   "source": [
    "# Define Problem, Use freeze core approximation, remove orbitals.\n",
    "from qiskit_nature.problems.second_quantization import ElectronicStructureProblem\n",
    "from qiskit_nature.transformers.second_quantization.electronic import FreezeCoreTransformer"
   ]
  },
  {
   "cell_type": "code",
   "execution_count": 30,
   "id": "f6aab750-b8a0-4b6e-b99a-ce56488e5e3d",
   "metadata": {},
   "outputs": [],
   "source": [
    "problem = ElectronicStructureProblem(\n",
    "    driver,\n",
    "    [FreezeCoreTransformer(freeze_core=True, remove_orbitals=[2,3])])\n",
    "\n",
    "second_q_ops = problem.second_q_ops()  # Get 2nd Quant OP\n",
    "num_spin_orbitals = problem.num_spin_orbitals\n",
    "num_particles = problem.num_particles"
   ]
  },
  {
   "cell_type": "code",
   "execution_count": 31,
   "id": "f032c140-c0ff-49cd-9523-8adf8b2c2a32",
   "metadata": {},
   "outputs": [
    {
     "name": "stdout",
     "output_type": "stream",
     "text": [
      "8\n",
      "(1, 1)\n"
     ]
    }
   ],
   "source": [
    "print(num_spin_orbitals)\n",
    "print(num_particles)"
   ]
  },
  {
   "cell_type": "code",
   "execution_count": 32,
   "id": "8fb93b47-f12e-49d5-8441-b8266c30487b",
   "metadata": {},
   "outputs": [],
   "source": [
    "from qiskit.opflow import TwoQubitReduction\n",
    "mapper = ParityMapper()#JordanWignerMapper()\n",
    "converter = QubitConverter(mapper, two_qubit_reduction=True)\n",
    "hamiltonian = second_q_ops['ElectronicEnergy']\n",
    "qubit_op = converter.convert(hamiltonian)\n",
    "reducer = TwoQubitReduction(num_particles)\n",
    "qubit_op = reducer.convert(qubit_op)\n",
    "num_particles = num_particles\n",
    "num_spin_orbitals = num_spin_orbitals -2"
   ]
  },
  {
   "cell_type": "code",
   "execution_count": 33,
   "id": "cb8cff5b-a9c8-4033-a79b-c04b411b9c86",
   "metadata": {},
   "outputs": [
    {
     "data": {
      "text/plain": [
       "<qiskit.circuit.instructionset.InstructionSet at 0x7febbcc01c70>"
      ]
     },
     "execution_count": 33,
     "metadata": {},
     "output_type": "execute_result"
    }
   ],
   "source": [
    "from qiskit_nature.second_q.circuit.library import UCCSD, HartreeFock\n",
    "from qiskit.circuit.library import ExcitationPreserving\n",
    "from qiskit.circuit import Parameter\n",
    "\n",
    "var = HartreeFock(num_spin_orbitals//2, num_particles, converter)\n",
    "var2 = HartreeFock(num_spin_orbitals//2, num_particles, converter)\n",
    "var2.append( UCCSD(num_spin_orbitals//2, num_particles, converter), [i for i in range(num_spin_orbitals)])"
   ]
  },
  {
   "cell_type": "code",
   "execution_count": 34,
   "id": "0f8291a8-5469-46c1-8c73-68194b55a31c",
   "metadata": {},
   "outputs": [
    {
     "data": {
      "text/plain": [
       "\"for i in range(6):\\n    var.rx(Parameter('ex_' + str(i)), i)\\n    #var.ry(Parameter('ey_' + str(i)), i)\\n    var.rz(Parameter('ez_' + str(i)), i)\""
      ]
     },
     "execution_count": 34,
     "metadata": {},
     "output_type": "execute_result"
    }
   ],
   "source": [
    "for i in range(6):\n",
    "    var.rx(Parameter('ax_' + str(i)), i)\n",
    "    #var.ry(Parameter('ay_' + str(i)), i)\n",
    "    #var.rz(Parameter('az_' + str(i)), i)\n",
    "\n",
    "var.append(ExcitationPreserving(2,reps=0, parameter_prefix='b'), [0,3])\n",
    "var.append(ExcitationPreserving(2,reps=0, parameter_prefix='c'), [1,4])\n",
    "var.append(ExcitationPreserving(2,reps=0, parameter_prefix='d'), [2,5])\n",
    "\n",
    "'''for i in range(6):\n",
    "    var.rx(Parameter('ex_' + str(i)), i)\n",
    "    #var.ry(Parameter('ey_' + str(i)), i)\n",
    "    var.rz(Parameter('ez_' + str(i)), i)'''"
   ]
  },
  {
   "cell_type": "code",
   "execution_count": 35,
   "id": "a40d40e2-0c13-4dee-95ef-d75ea72b528d",
   "metadata": {},
   "outputs": [
    {
     "data": {
      "image/png": "[encoded data removed]",
      "text/plain": [
       "<Figure size 929.397x385.28 with 1 Axes>"
      ]
     },
     "execution_count": 35,
     "metadata": {},
     "output_type": "execute_result"
    }
   ],
   "source": [
    "var.draw()"
   ]
  },
  {
   "cell_type": "code",
   "execution_count": 36,
   "id": "f822b08a-2aa4-47d0-810d-e4f1542e40f5",
   "metadata": {},
   "outputs": [],
   "source": [
    "from qiskit_aer.noise import NoiseModel\n",
    "#from qiskit import CouplingMap\n",
    "from qiskit.providers.aer import AerSimulator\n",
    "backend = provider.get_backend('ibmq_jakarta')\n",
    "backend_sim = AerSimulator.from_backend(backend)\n",
    "noise_model = NoiseModel.from_backend(backend)\n",
    "coupling_map = backend.configuration().coupling_map\n",
    "basis_gates = backend.configuration().basis_gates"
   ]
  },
  {
   "cell_type": "code",
   "execution_count": 37,
   "id": "3480acf7-6c8a-4b6f-b8ad-b7fcc148b28d",
   "metadata": {},
   "outputs": [],
   "source": [
    "from qiskit.algorithms import MinimumEigensolver, VQEResult\n",
    "\n",
    "# Define a custome VQE class to orchestra the ansatz, classical optimizers, \n",
    "# initial point, callback, and final result\n",
    "class CustomVQE(MinimumEigensolver):\n",
    "    \n",
    "    def __init__(self, estimator, circuit, optimizer, callback=None):\n",
    "        self._estimator = estimator\n",
    "        self._circuit = circuit\n",
    "        self._optimizer = optimizer\n",
    "        self._callback = callback\n",
    "        \n",
    "    def compute_minimum_eigenvalue(self, operators, aux_operators=None):\n",
    "                \n",
    "        # Define objective function to classically minimize over\n",
    "        def objective(x):\n",
    "            # Execute job with estimator primitive\n",
    "            job = self._estimator.run([self._circuit], [operators], [x], noise_model = noise_model)\n",
    "            # Get results from jobs\n",
    "            est_result = job.result()\n",
    "            # Get the measured energy value\n",
    "            value = est_result.values[0]\n",
    "            # Save result information using callback function\n",
    "            if self._callback is not None:\n",
    "                self._callback(value)\n",
    "            return value\n",
    "            \n",
    "        # Select an initial point for the ansatzs' parameters\n",
    "        x0 = np.pi/4 * np.random.rand(self._circuit.num_parameters)\n",
    "        \n",
    "        # Run optimization\n",
    "        res = self._optimizer.minimize(objective, x0=x0)\n",
    "        \n",
    "        # Populate VQE result\n",
    "        result = VQEResult()\n",
    "        result.cost_function_evals = res.nfev\n",
    "        result.eigenvalue = res.fun\n",
    "        result.optimal_parameters = res.x\n",
    "        return result"
   ]
  },
  {
   "cell_type": "code",
   "execution_count": 38,
   "id": "a91e462f-134a-4250-99d0-83511458de83",
   "metadata": {},
   "outputs": [],
   "source": [
    "q_layout = [0,1,2,3,5,6]\n",
    "#ansatz_opt = transpile(var, backend=Aer.get_backend('aer_simulator'), initial_layout=q_layout)\n",
    "ansatz_opt = transpile(var, AerSimulator(noise_model=noise_model), initial_layout=q_layout, optimization_level =3)"
   ]
  },
  {
   "cell_type": "code",
   "execution_count": 39,
   "id": "419341f4-3d3d-405f-a036-aff100a49cc9",
   "metadata": {},
   "outputs": [],
   "source": [
    "from qiskit.primitives import Estimator\n",
    "import time"
   ]
  },
  {
   "cell_type": "code",
   "execution_count": 40,
   "id": "3f7233f3-92ac-489f-ac54-de11c4174b5e",
   "metadata": {},
   "outputs": [],
   "source": [
    "exp_qubit_op = []\n",
    "\n",
    "for i in range(len(qubit_op)):\n",
    "    aux = qubit_op[i].primitive.to_list()\n",
    "    #print(aux[0][0])\n",
    "    #print(aux[0][1])\n",
    "    aux1 = aux[0][0][:3]+'I'+aux[0][0][3:]\n",
    "    #print(aux1)\n",
    "    \n",
    "    exp_qubit_op.append((aux1, aux[0][1]))\n",
    "    \n",
    "from qiskit.opflow.primitive_ops import PauliSumOp\n",
    "\n",
    "auxP = PauliSumOp.from_list(exp_qubit_op)\n",
    "    "
   ]
  },
  {
   "cell_type": "code",
   "execution_count": 41,
   "id": "35ff90a4-91da-4ffd-bed5-c30d371db15a",
   "metadata": {},
   "outputs": [],
   "source": [
    "from qiskit.algorithms.optimizers import SPSA, COBYLA\n",
    "\n",
    "#optimizer = SPSA(maxiter=150)\n",
    "optimizer = COBYLA(maxiter=100)"
   ]
  },
  {
   "cell_type": "code",
   "execution_count": 42,
   "id": "cfe7efb1-ff77-4386-a6fa-0c992deabe96",
   "metadata": {},
   "outputs": [
    {
     "name": "stdout",
     "output_type": "stream",
     "text": [
      "{   'aux_operator_eigenvalues': None,\n",
      "    'cost_function_evals': 100,\n",
      "    'eigenstate': None,\n",
      "    'eigenvalue': -1.3121253447534222,\n",
      "    'optimal_circuit': None,\n",
      "    'optimal_parameters': array([-0.00436511,  0.00337477,  0.00367203,  0.34888844,  0.0034505 ,\n",
      "        0.0026176 ,  2.46179861,  1.74080197,  1.76182719,  1.84254818,\n",
      "        0.33699714,  0.20895572]),\n",
      "    'optimal_point': None,\n",
      "    'optimal_value': None,\n",
      "    'optimizer_evals': None,\n",
      "    'optimizer_result': None,\n",
      "    'optimizer_time': None}\n",
      "execution time (s): 2.24\n"
     ]
    }
   ],
   "source": [
    "# Define instance of qiskit-terra's Estimator primitive\n",
    "estimator = Estimator([ansatz_opt], [auxP])\n",
    "# Setup VQE algorithm\n",
    "\n",
    "# Define a simple callback function\n",
    "intermediate_info = []\n",
    "def callback(value):\n",
    "        intermediate_info.append(value)\n",
    "\n",
    "custom_vqe = CustomVQE(estimator, ansatz_opt, optimizer, callback=callback)\n",
    "\n",
    "# Run the custom VQE function and monitor execution time\n",
    "start = time.time()\n",
    "res_sim = custom_vqe.compute_minimum_eigenvalue(auxP)\n",
    "end = time.time()\n",
    "\n",
    "print(res_sim)\n",
    "print(f'execution time (s): {end - start:.2f}')"
   ]
  },
  {
   "cell_type": "code",
   "execution_count": 43,
   "id": "f695570f-f85b-4628-ab4c-69275a771d88",
   "metadata": {},
   "outputs": [
    {
     "data": {
      "image/png": "[encoded data removed]",
      "text/plain": [
       "<Figure size 432x288 with 1 Axes>"
      ]
     },
     "metadata": {
      "needs_background": "light"
     },
     "output_type": "display_data"
    }
   ],
   "source": [
    "import matplotlib.pyplot as plt\n",
    "plt.plot(intermediate_info, color='purple', lw=2, label='Simulated VQE')\n",
    "plt.ylabel('Energy')\n",
    "plt.xlabel('Iterations')\n",
    "# Exact ground state energy value\n",
    "#plt.axhline(y=ana_gs, color=\"tab:red\", ls=\"--\", lw=2, label=\"Target: \" + str(ana_gs))\n",
    "plt.legend()\n",
    "plt.grid()\n",
    "plt.show()"
   ]
  },
  {
   "cell_type": "code",
   "execution_count": 44,
   "id": "db6a8a80-939b-4f1c-a182-26b5e378e57c",
   "metadata": {},
   "outputs": [
    {
     "name": "stdout",
     "output_type": "stream",
     "text": [
      "=== GROUND STATE ENERGY ===\n",
      " \n",
      "* Electronic ground state energy (Hartree): -18.931641207513\n",
      "  - computed part:      -1.312125344753\n",
      "  - FreezeCoreTransformer extracted energy part: -17.619515862759\n",
      "~ Nuclear repulsion energy (Hartree): 3.37181881021\n",
      "> Total ground state energy (Hartree): -15.559822397303\n",
      " \n",
      "=== MEASURED OBSERVABLES ===\n",
      " \n",
      " \n",
      "=== DIPOLE MOMENTS ===\n",
      " \n",
      "~ Nuclear dipole moment (a.u.): [15.1253679  0.0  0.0]\n",
      " \n"
     ]
    }
   ],
   "source": [
    "cmp_gs = problem.interpret(res_sim).total_energies[0].real\n",
    "print(problem.interpret(res_sim))"
   ]
  },
  {
   "cell_type": "code",
   "execution_count": 45,
   "id": "2455b23b-d87e-44e7-8a26-18c68a8faa1a",
   "metadata": {},
   "outputs": [
    {
     "name": "stdout",
     "output_type": "stream",
     "text": [
      "-15.559822397303027\n",
      "-15.595030952230672\n",
      "0.22576777843848925\n"
     ]
    }
   ],
   "source": [
    "print(cmp_gs)\n",
    "print(ana_gs)\n",
    "print((ana_gs-cmp_gs)/ana_gs*100)"
   ]
  },
  {
   "cell_type": "code",
   "execution_count": 46,
   "id": "fbefb8b4-d481-43b1-a611-c76c6140c702",
   "metadata": {},
   "outputs": [],
   "source": [
    "from qiskit_ibm_runtime import QiskitRuntimeService, Session, Estimator as RuntimeEstimator, Options\n",
    "QiskitRuntimeService.save_account(channel=\"ibm_quantum\", token='7d51f5c5e5c7521015c58312ad6428df9fc7dcf957d3159dfba1f25c77afdbee41b8ae64d75b87285e51cd8d0b28c172a4a13c2491283414a1d489281fb5a2f1' ,overwrite=True)\n",
    "optimizer = COBYLA(maxiter=100)"
   ]
  },
  {
   "cell_type": "code",
   "execution_count": 47,
   "id": "f60459f8-d794-4905-9cfb-fb5f273e31eb",
   "metadata": {},
   "outputs": [],
   "source": [
    "# Define a simple callback function\n",
    "intermediate_info_run = []\n",
    "def callback_run(value):\n",
    "        intermediate_info_run.append(value)"
   ]
  },
  {
   "cell_type": "code",
   "execution_count": 48,
   "id": "646ffaff-5538-4bd0-a7fe-e87a33818f0d",
   "metadata": {},
   "outputs": [],
   "source": [
    "import signal, time\n",
    "\n",
    "from qiskit_ibm_runtime import Estimator, Session\n",
    "from qiskit.providers import JobStatus\n",
    "\n",
    "def timeout_handler(signum, frame):\n",
    "    raise Exception('Iteration timed out')\n",
    "    \n",
    "class RetryEstimator(Estimator):\n",
    "    \"\"\"RuntimeRetryEstimator class.\n",
    "    \n",
    "    This class inherits from Qiskit IBM Runtime's Estimator and overwrites its run method such that it retries calling it\n",
    "    a maximum of 'max_retries' consecutive times, if it encounters one of the following randomly occuring errors:\n",
    "    \n",
    "    * An Estimator error (in this case \"Job.ERROR\" is printed, and the job is cancelled automatically)\n",
    "    * A timeout error where the job either remains running or completes but does not return anything, for a time larger \n",
    "      than 'timeout' (in this case the job is cancelled by the patch and \"Job.CANCELLED\" is printed)\n",
    "    * A creation error, where the job fails to be created because connection is lost between the runtime server and the\n",
    "      quantum computer (in this case \"Failed to create job.\" is printed). If this error occurs, the patch connects the user\n",
    "      to a new Session (to be handled with care! also, this will unfortunately put the next job in the queue). \n",
    "    \"\"\"\n",
    "    \n",
    "    def __init__(self, *args, max_retries: int = 5, timeout: int = 3600, **kwargs) -> None:\n",
    "        super().__init__(*args, **kwargs)\n",
    "        self.max_retries = max_retries\n",
    "        self.timeout = timeout\n",
    "        self.backend = super().session._backend\n",
    "        signal.signal(signal.SIGALRM, timeout_handler)\n",
    "    \n",
    "    def run(self, circuits, observables, parameter_values, **kwargs):\n",
    "        result = None\n",
    "        for i in range(self.max_retries):\n",
    "            try:\n",
    "                job = super().run(circuits, observables, parameter_values, **kwargs)\n",
    "                while job.status() in [JobStatus.INITIALIZING, JobStatus.QUEUED, JobStatus.VALIDATING]:\n",
    "                    time.sleep(5) # Check every 5 seconds whether job status has changed\n",
    "                signal.alarm(self.timeout) # Once job starts running, set timeout to 1 hour by default\n",
    "                result = job.result()\n",
    "                if result is not None:\n",
    "                    signal.alarm(0) # reset timer\n",
    "                    return job\n",
    "            except Exception as e:\n",
    "                print(\"\\nSomething went wrong...\")\n",
    "                print(f\"\\n\\nERROR MESSAGE:\\n{e}\\n\\n\")\n",
    "                if 'job' in locals(): # Sometimes job fails to create\n",
    "                    print(f\"Job ID: {job.job_id}. Job status: {job.status()}.\")\n",
    "                    if job.status() not in [JobStatus.DONE, JobStatus.ERROR, JobStatus.CANCELLED]:\n",
    "                        job.cancel()\n",
    "                else:\n",
    "                    print(\"Failed to create job.\")\n",
    "                print(f\"Starting trial number {i+2}...\\n\")\n",
    "                print(f\"Creating new session...\\n\")\n",
    "                signal.alarm(0) # reset timer\n",
    "                super().session.close()\n",
    "                self._session = Session(backend=self.backend)\n",
    "        if result is None:\n",
    "            raise RuntimeError(f\"Program failed! Maximum number of retries ({self.max_retries}) exceeded\")"
   ]
  },
  {
   "cell_type": "code",
   "execution_count": 49,
   "id": "016735d6-264f-4701-b72a-abeaa2d8422d",
   "metadata": {},
   "outputs": [
    {
     "name": "stdout",
     "output_type": "stream",
     "text": [
      "<IBMBackend('ibm_nairobi')>\n"
     ]
    }
   ],
   "source": [
    "from qiskit_ibm_runtime import QiskitRuntimeService\n",
    "\n",
    "# Save your credentials on disk.\n",
    "# QiskitRuntimeService.save_account(channel='ibm_quantum', token=<IBM Quantum API key>)\n",
    "\n",
    "service = QiskitRuntimeService(\n",
    "    channel='ibm_quantum',\n",
    "    instance='qhack-event/main/level-1',\n",
    ")\n",
    "backend = backend = service.get_backend('ibm_nairobi')\n",
    "print(backend)"
   ]
  },
  {
   "cell_type": "code",
   "execution_count": 50,
   "id": "014a52f5-e475-4410-9292-f2dd709128fe",
   "metadata": {},
   "outputs": [],
   "source": [
    "ansatz_opt = transpile(var, backend=backend, initial_layout=q_layout, optimization_level =3)"
   ]
  },
  {
   "cell_type": "code",
   "execution_count": 51,
   "id": "a6d562a9-37c0-4c6b-ada5-395f6310d609",
   "metadata": {},
   "outputs": [
    {
     "data": {
      "text/plain": [
       "OrderedDict([('rz', 27), ('sx', 12), ('cx', 12)])"
      ]
     },
     "execution_count": 51,
     "metadata": {},
     "output_type": "execute_result"
    }
   ],
   "source": [
    "ansatz_opt.count_ops()"
   ]
  },
  {
   "cell_type": "code",
   "execution_count": 52,
   "id": "8a0b5487-a89e-4448-b111-a6fe27179253",
   "metadata": {},
   "outputs": [],
   "source": [
    "options = Options()\n",
    "options.execution.shots = 1024\n",
    "options.optimization_level = 3\n",
    "options.resilience_level = 2\n"
   ]
  },
  {
   "cell_type": "code",
   "execution_count": 53,
   "id": "d017cc0e-21d2-481d-92b9-2b889ac83cb8",
   "metadata": {},
   "outputs": [
    {
     "name": "stdout",
     "output_type": "stream",
     "text": [
      "Options(optimization_level=3, resilience_level=2, max_execution_time=None, transpilation=TranspilationOptions(skip_transpilation=False, initial_layout=None, layout_method=None, routing_method=None, approximation_degree=None), resilience=ResilienceOptions(noise_amplifier='TwoQubitAmplifier', noise_factors=(1, 3, 5), extrapolator='LinearExtrapolator'), execution=ExecutionOptions(shots=1024, init_qubits=True), environment=EnvironmentOptions(log_level='WARNING', callback=None, job_tags=[]), simulator=SimulatorOptions(noise_model=None, seed_simulator=None, coupling_map=None, basis_gates=None))\n",
      "execution time (s): 11919.38\n"
     ]
    }
   ],
   "source": [
    "start = time.time()\n",
    "with Session(service=service, backend=backend) as session:\n",
    "    #  Prepare primitive\n",
    "    print(options)\n",
    "    rt_estimator = RetryEstimator(session=session, options=options)# RuntimeEstimator(session=session, options=options)\n",
    "     # Set up algorithm\n",
    "    custom_vqe = CustomVQE(rt_estimator, ansatz_opt, optimizer, callback=callback_run)\n",
    "     # Run algorithm\n",
    "    result = custom_vqe.compute_minimum_eigenvalue(auxP)\n",
    "end = time.time()\n",
    "print(f'execution time (s): {end - start:.2f}')"
   ]
  },
  {
   "cell_type": "code",
   "execution_count": 57,
   "id": "c80f41f6-c50b-4708-8631-b4e63fbfb65b",
   "metadata": {},
   "outputs": [
    {
     "name": "stdout",
     "output_type": "stream",
     "text": [
      "{   'aux_operator_eigenvalues': None,\n",
      "    'cost_function_evals': 100,\n",
      "    'eigenstate': None,\n",
      "    'eigenvalue': -0.745747618076761,\n",
      "    'optimal_circuit': None,\n",
      "    'optimal_parameters': array([ 2.36709962,  2.97857596,  1.9661262 ,  2.71740543,  0.19568754,\n",
      "        0.01326058,  0.25440839,  0.68838378, -0.06312787,  1.10382187,\n",
      "        1.47580615,  1.86269704]),\n",
      "    'optimal_point': None,\n",
      "    'optimal_value': None,\n",
      "    'optimizer_evals': None,\n",
      "    'optimizer_result': None,\n",
      "    'optimizer_time': None}\n"
     ]
    }
   ],
   "source": [
    "print(result)"
   ]
  },
  {
   "cell_type": "code",
   "execution_count": 60,
   "id": "0042a093-d5b2-4cc7-9726-e42a5b532d5b",
   "metadata": {},
   "outputs": [
    {
     "data": {
      "image/png": "[encoded data removed]",
      "text/plain": [
       "<Figure size 432x288 with 1 Axes>"
      ]
     },
     "metadata": {
      "needs_background": "light"
     },
     "output_type": "display_data"
    }
   ],
   "source": [
    "import matplotlib.pyplot as plt\n",
    "plt.plot(intermediate_info_run, color='purple', lw=2, label='Simulated VQE')\n",
    "plt.ylabel('Energy')\n",
    "plt.xlabel('Iterations')\n",
    "# Exact ground state energy value\n",
    "#plt.axhline(y=ana_gs, color=\"tab:red\", ls=\"--\", lw=2, label=\"Target: \" + str(ana_gs))\n",
    "plt.legend()\n",
    "plt.grid()\n",
    "plt.show()"
   ]
  },
  {
   "cell_type": "code",
   "execution_count": 61,
   "id": "a2ad9d9b-e8ba-49cd-9a6e-57fb78d54df2",
   "metadata": {},
   "outputs": [
    {
     "name": "stdout",
     "output_type": "stream",
     "text": [
      "=== GROUND STATE ENERGY ===\n",
      " \n",
      "* Electronic ground state energy (Hartree): -18.365263480836\n",
      "  - computed part:      -0.745747618077\n",
      "  - FreezeCoreTransformer extracted energy part: -17.619515862759\n",
      "~ Nuclear repulsion energy (Hartree): 3.37181881021\n",
      "> Total ground state energy (Hartree): -14.993444670626\n",
      " \n",
      "=== MEASURED OBSERVABLES ===\n",
      " \n",
      " \n",
      "=== DIPOLE MOMENTS ===\n",
      " \n",
      "~ Nuclear dipole moment (a.u.): [15.1253679  0.0  0.0]\n",
      " \n"
     ]
    }
   ],
   "source": [
    "cmp_gs = problem.interpret(result).total_energies[0].real\n",
    "print(problem.interpret(result))"
   ]
  },
  {
   "cell_type": "code",
   "execution_count": 59,
   "id": "946ef4da-d024-4030-b1f5-6ffe36009441",
   "metadata": {},
   "outputs": [
    {
     "name": "stdout",
     "output_type": "stream",
     "text": [
      "-14.993444670626367\n",
      "-15.595030952230672\n",
      "3.8575510587124295\n"
     ]
    }
   ],
   "source": [
    "print(cmp_gs)\n",
    "print(ana_gs)\n",
    "print((ana_gs-cmp_gs)/ana_gs*100)"
   ]
  },
  {
   "cell_type": "code",
   "execution_count": null,
   "id": "aaf0d004-2c76-443a-9ca1-c00afc315f84",
   "metadata": {},
   "outputs": [],
   "source": []
  }
 ],
 "metadata": {
  "kernelspec": {
   "display_name": "Python 3 (ipykernel)",
   "language": "python",
   "name": "python3"
  },
  "language_info": {
   "codemirror_mode": {
    "name": "ipython",
    "version": 3
   },
   "file_extension": ".py",
   "mimetype": "text/x-python",
   "name": "python",
   "nbconvert_exporter": "python",
   "pygments_lexer": "ipython3",
   "version": "3.8.15"
  },
  "widgets": {
   "application/vnd.jupyter.widget-state+json": {
    "state": {},
    "version_major": 2,
    "version_minor": 0
   }
  }
 },
 "nbformat": 4,
 "nbformat_minor": 5
}
