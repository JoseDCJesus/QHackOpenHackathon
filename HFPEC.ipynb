{
 "cells": [
  {
   "cell_type": "code",
   "execution_count": 1,
   "id": "bef42547-cea4-431c-a168-8106dce25797",
   "metadata": {},
   "outputs": [
    {
     "name": "stderr",
     "output_type": "stream",
     "text": [
      "/tmp/ipykernel_21426/1247502325.py:11: DeprecationWarning: The qiskit.IBMQ entrypoint and the qiskit-ibmq-provider package (accessible from 'qiskit.providers.ibmq`) are deprecated and will be removed in a future release. Instead you should use the qiskit-ibm-provider package which is accessible from 'qiskit_ibm_provider'. You can install it with 'pip install qiskit_ibm_provider'. Just replace 'qiskit.IBMQ' with 'qiskit_ibm_provider.IBMProvider'\n",
      "  IBMQ.save_account('7d51f5c5e5c7521015c58312ad6428df9fc7dcf957d3159dfba1f25c77afdbee41b8ae64d75b87285e51cd8d0b28c172a4a13c2491283414a1d489281fb5a2f1')\n",
      "configrc.store_credentials:WARNING:2023-02-27 23:15:07,354: Credentials already present. Set overwrite=True to overwrite.\n"
     ]
    }
   ],
   "source": [
    "import numpy as np\n",
    "\n",
    "# Importing standard Qiskit libraries\n",
    "from qiskit import QuantumCircuit, transpile, Aer, IBMQ\n",
    "from qiskit.tools.jupyter import *\n",
    "from qiskit.visualization import *\n",
    "from ibm_quantum_widgets import *\n",
    "from qiskit.providers.aer import QasmSimulator\n",
    "\n",
    "# Loading your IBM Quantum account(s)\n",
    "IBMQ.save_account('7d51f5c5e5c7521015c58312ad6428df9fc7dcf957d3159dfba1f25c77afdbee41b8ae64d75b87285e51cd8d0b28c172a4a13c2491283414a1d489281fb5a2f1')\n",
    "provider = IBMQ.load_account()"
   ]
  },
  {
   "cell_type": "code",
   "execution_count": 2,
   "id": "dfbecbd8-5703-44e7-bb52-18e564e5c538",
   "metadata": {},
   "outputs": [],
   "source": [
    "from qiskit_nature.second_q.drivers import PySCFDriver\n",
    "from qiskit_nature.units import DistanceUnit\n",
    "driver_ana = PySCFDriver(\n",
    "    atom=\"H 0 0 0; Be 0 0 1.334; H 0 0 2.668\",\n",
    "    basis=\"sto3g\",\n",
    "    charge=0,\n",
    "    spin=0,\n",
    "    unit=DistanceUnit.ANGSTROM,\n",
    ")"
   ]
  },
  {
   "cell_type": "code",
   "execution_count": 3,
   "id": "09cdd1fe-0de9-4b40-b4cd-02ad11813743",
   "metadata": {},
   "outputs": [],
   "source": [
    "from qiskit_nature.transformers.second_quantization.electronic import FreezeCoreTransformer\n",
    "from qiskit_nature.problems.second_quantization import ElectronicStructureProblem\n",
    "problem_ana = ElectronicStructureProblem(\n",
    "        driver_ana,\n",
    "        [FreezeCoreTransformer(freeze_core=True)])#,\n",
    "                               #remove_orbitals=[-3,-2])])"
   ]
  },
  {
   "cell_type": "code",
   "execution_count": 4,
   "id": "482e23b6-f9cc-4851-b941-f246b3c02aeb",
   "metadata": {},
   "outputs": [],
   "source": [
    "problem_ana = driver_ana.run()"
   ]
  },
  {
   "cell_type": "code",
   "execution_count": 5,
   "id": "03b12af8-e21e-4994-9809-61d79f9ba035",
   "metadata": {},
   "outputs": [],
   "source": [
    "from qiskit_nature.second_q.algorithms import GroundStateEigensolver, NumPyMinimumEigensolverFactory\n",
    "from qiskit_nature.second_q.mappers import ParityMapper, JordanWignerMapper, QubitConverter\n",
    "\n",
    "solver = GroundStateEigensolver(\n",
    "    QubitConverter(ParityMapper()),\n",
    "    NumPyMinimumEigensolverFactory(),\n",
    ")"
   ]
  },
  {
   "cell_type": "code",
   "execution_count": 6,
   "id": "76a93536-6e17-4110-9676-235cfed85259",
   "metadata": {},
   "outputs": [
    {
     "name": "stdout",
     "output_type": "stream",
     "text": [
      "=== GROUND STATE ENERGY ===\n",
      " \n",
      "* Electronic ground state energy (Hartree): -18.966849762441\n",
      "  - computed part:      -18.966849762441\n",
      "~ Nuclear repulsion energy (Hartree): 3.37181881021\n",
      "> Total ground state energy (Hartree): -15.595030952231\n",
      " \n",
      "=== MEASURED OBSERVABLES ===\n",
      " \n",
      "  0:  # Particles: 6.000 S: 0.000 S^2: 0.000 M: 0.000\n",
      " \n",
      "=== DIPOLE MOMENTS ===\n",
      " \n",
      "~ Nuclear dipole moment (a.u.): [0.0  0.0  15.1253679]\n",
      " \n",
      "  0: \n",
      "  * Electronic dipole moment (a.u.): [0.0  0.0  15.1253679]\n",
      "    - computed part:      [0.0  0.0  15.1253679]\n",
      "  > Dipole moment (a.u.): [0.0  0.0  0.0]  Total: 0.0\n",
      "                 (debye): [0.0  0.0  0.0]  Total: 0.0\n",
      " \n"
     ]
    }
   ],
   "source": [
    "result = solver.solve(problem_ana)\n",
    "ana_gs = result.total_energies[0]\n",
    "print(result)"
   ]
  },
  {
   "cell_type": "code",
   "execution_count": 7,
   "id": "070ff94e-4dea-4082-a217-f45ff0e682b8",
   "metadata": {},
   "outputs": [],
   "source": [
    "from qiskit_nature.drivers import Molecule\n",
    "from qiskit_nature.drivers.second_quantization import (\n",
    "    ElectronicStructureMoleculeDriver, ElectronicStructureDriverType)\n",
    "\n",
    "# Define Molecule\n",
    "molecule = Molecule(\n",
    "    # Coordinates in Angstrom\n",
    "    geometry=[\n",
    "        [\"H\", [0.0, 0.0, 0.0]],\n",
    "        [\"Be\", [1.334, 0.0, 0.0]],\n",
    "        [\"H\", [2.668, 0.0, 0.0]]\n",
    "    ],\n",
    "    multiplicity=1,  # = 2*spin + 1\n",
    "    charge=0,\n",
    ")\n",
    "\n",
    "driver = ElectronicStructureMoleculeDriver(\n",
    "    molecule=molecule,\n",
    "    basis=\"sto3g\",\n",
    "    driver_type=ElectronicStructureDriverType.PYSCF)"
   ]
  },
  {
   "cell_type": "code",
   "execution_count": 8,
   "id": "490a7fe7-86f1-4fb7-aebf-7095c2f5f8af",
   "metadata": {},
   "outputs": [],
   "source": [
    "# Define Problem, Use freeze core approximation, remove orbitals.\n",
    "from qiskit_nature.problems.second_quantization import ElectronicStructureProblem\n",
    "from qiskit_nature.transformers.second_quantization.electronic import FreezeCoreTransformer"
   ]
  },
  {
   "cell_type": "code",
   "execution_count": 16,
   "id": "fff502f9-5276-4120-87dc-43047b6498a6",
   "metadata": {},
   "outputs": [],
   "source": [
    "problem = ElectronicStructureProblem(\n",
    "    driver,\n",
    "    [FreezeCoreTransformer(freeze_core=True, remove_orbitals=[2,3])])\n",
    "\n",
    "second_q_ops = problem.second_q_ops()  # Get 2nd Quant OP\n",
    "num_spin_orbitals = problem.num_spin_orbitals\n",
    "num_particles = problem.num_particles"
   ]
  },
  {
   "cell_type": "code",
   "execution_count": 17,
   "id": "e8cf76a1-c766-4130-a35a-7ff94750c4a4",
   "metadata": {},
   "outputs": [
    {
     "name": "stdout",
     "output_type": "stream",
     "text": [
      "8\n",
      "(1, 1)\n"
     ]
    }
   ],
   "source": [
    "print(num_spin_orbitals)\n",
    "print(num_particles)"
   ]
  },
  {
   "cell_type": "code",
   "execution_count": 18,
   "id": "5cb71ae1-9501-4c55-8973-025b731818e2",
   "metadata": {},
   "outputs": [],
   "source": [
    "from qiskit.opflow import TwoQubitReduction\n",
    "mapper = ParityMapper()#JordanWignerMapper()\n",
    "converter = QubitConverter(mapper, two_qubit_reduction=True)\n",
    "hamiltonian = second_q_ops['ElectronicEnergy']\n",
    "qubit_op = converter.convert(hamiltonian)\n",
    "reducer = TwoQubitReduction(num_particles)\n",
    "qubit_op = reducer.convert(qubit_op)\n",
    "num_particles = num_particles\n",
    "num_spin_orbitals = num_spin_orbitals -2"
   ]
  },
  {
   "cell_type": "code",
   "execution_count": 19,
   "id": "101e5701-a631-4631-99d4-289c6494bb3a",
   "metadata": {},
   "outputs": [
    {
     "data": {
      "text/plain": [
       "<qiskit.circuit.instructionset.InstructionSet at 0x7fec3ce35be0>"
      ]
     },
     "execution_count": 19,
     "metadata": {},
     "output_type": "execute_result"
    }
   ],
   "source": [
    "from qiskit_nature.second_q.circuit.library import UCCSD, HartreeFock\n",
    "from qiskit.circuit.library import ExcitationPreserving\n",
    "from qiskit.circuit import Parameter\n",
    "\n",
    "var = HartreeFock(num_spin_orbitals//2, num_particles, converter)\n",
    "var2 = HartreeFock(num_spin_orbitals//2, num_particles, converter)\n",
    "var2.append( UCCSD(num_spin_orbitals//2, num_particles, converter), [i for i in range(num_spin_orbitals)])"
   ]
  },
  {
   "cell_type": "code",
   "execution_count": 20,
   "id": "26167826-5852-41a7-838c-50a242c417ee",
   "metadata": {},
   "outputs": [
    {
     "data": {
      "text/plain": [
       "\"for i in range(6):\\n    var.rx(Parameter('ax_' + str(i)), i)\\n\\nvar.append(ExcitationPreserving(2,reps=0, parameter_prefix='a'), [0,3])\\nvar.append(ExcitationPreserving(2,reps=0, parameter_prefix='b'), [1,4])\\nvar.append(ExcitationPreserving(2,reps=0, parameter_prefix='c'), [2,5])\""
      ]
     },
     "execution_count": 20,
     "metadata": {},
     "output_type": "execute_result"
    }
   ],
   "source": [
    "'''for i in range(6):\n",
    "    var.rx(Parameter('ax_' + str(i)), i)\n",
    "\n",
    "var.append(ExcitationPreserving(2,reps=0, parameter_prefix='a'), [0,3])\n",
    "var.append(ExcitationPreserving(2,reps=0, parameter_prefix='b'), [1,4])\n",
    "var.append(ExcitationPreserving(2,reps=0, parameter_prefix='c'), [2,5])'''"
   ]
  },
  {
   "cell_type": "code",
   "execution_count": 21,
   "id": "9d052638-b811-492a-a578-d81b8fc27987",
   "metadata": {},
   "outputs": [
    {
     "data": {
      "text/html": [
       "<pre style=\"word-wrap: normal;white-space: pre;background: #fff0;line-height: 1.1;font-family: &quot;Courier New&quot;,Courier,monospace\">     ┌───┐\n",
       "q_0: ┤ X ├\n",
       "     ├───┤\n",
       "q_1: ┤ X ├\n",
       "     ├───┤\n",
       "q_2: ┤ X ├\n",
       "     └───┘\n",
       "q_3: ─────\n",
       "          \n",
       "q_4: ─────\n",
       "          \n",
       "q_5: ─────\n",
       "          </pre>"
      ],
      "text/plain": [
       "     ┌───┐\n",
       "q_0: ┤ X ├\n",
       "     ├───┤\n",
       "q_1: ┤ X ├\n",
       "     ├───┤\n",
       "q_2: ┤ X ├\n",
       "     └───┘\n",
       "q_3: ─────\n",
       "          \n",
       "q_4: ─────\n",
       "          \n",
       "q_5: ─────\n",
       "          "
      ]
     },
     "execution_count": 21,
     "metadata": {},
     "output_type": "execute_result"
    }
   ],
   "source": [
    "var.draw()"
   ]
  },
  {
   "cell_type": "code",
   "execution_count": 22,
   "id": "f564e697-cba1-4cdd-80c6-12c83d29970d",
   "metadata": {},
   "outputs": [],
   "source": [
    "from qiskit_aer.noise import NoiseModel\n",
    "#from qiskit import CouplingMap\n",
    "from qiskit.providers.aer import AerSimulator\n",
    "backend = provider.get_backend('ibmq_jakarta')\n",
    "backend_sim = AerSimulator.from_backend(backend)\n",
    "noise_model = NoiseModel.from_backend(backend)\n",
    "coupling_map = backend.configuration().coupling_map\n",
    "basis_gates = backend.configuration().basis_gates"
   ]
  },
  {
   "cell_type": "code",
   "execution_count": 23,
   "id": "4343f1ad-2579-42c3-83f6-5a12408c1988",
   "metadata": {},
   "outputs": [],
   "source": [
    "from qiskit.algorithms import MinimumEigensolver, VQEResult\n",
    "\n",
    "# Define a custome VQE class to orchestra the ansatz, classical optimizers, \n",
    "# initial point, callback, and final result\n",
    "class CustomVQE(MinimumEigensolver):\n",
    "    \n",
    "    def __init__(self, estimator, circuit, optimizer, callback=None):\n",
    "        self._estimator = estimator\n",
    "        self._circuit = circuit\n",
    "        self._optimizer = optimizer\n",
    "        self._callback = callback\n",
    "        \n",
    "    def compute_minimum_eigenvalue(self, operators, aux_operators=None):\n",
    "                \n",
    "        # Define objective function to classically minimize over\n",
    "        def objective(x):\n",
    "            # Execute job with estimator primitive\n",
    "            job = self._estimator.run([self._circuit], [operators], [x], noise_model = noise_model)\n",
    "            # Get results from jobs\n",
    "            est_result = job.result()\n",
    "            # Get the measured energy value\n",
    "            value = est_result.values[0]\n",
    "            # Save result information using callback function\n",
    "            if self._callback is not None:\n",
    "                self._callback(value)\n",
    "            return value\n",
    "            \n",
    "        # Select an initial point for the ansatzs' parameters\n",
    "        x0 = np.pi/4 * np.random.rand(self._circuit.num_parameters)\n",
    "        \n",
    "        # Run optimization\n",
    "        res = self._optimizer.minimize(objective, x0=x0)\n",
    "        \n",
    "        # Populate VQE result\n",
    "        result = VQEResult()\n",
    "        result.cost_function_evals = res.nfev\n",
    "        result.eigenvalue = res.fun\n",
    "        result.optimal_parameters = res.x\n",
    "        return result"
   ]
  },
  {
   "cell_type": "code",
   "execution_count": 24,
   "id": "f59818d7-38d4-46c3-80b7-d914b1db5be3",
   "metadata": {},
   "outputs": [],
   "source": [
    "q_layout = [0,1,2,3,5,6]\n",
    "#ansatz_opt = transpile(var, backend=Aer.get_backend('aer_simulator'), initial_layout=q_layout)\n",
    "ansatz_opt = transpile(var, AerSimulator(noise_model=noise_model), initial_layout=q_layout, optimization_level =3)"
   ]
  },
  {
   "cell_type": "code",
   "execution_count": 25,
   "id": "ad28ceb7-fc98-4af3-86b5-a681492974f3",
   "metadata": {},
   "outputs": [],
   "source": [
    "from qiskit.primitives import Estimator\n",
    "import time"
   ]
  },
  {
   "cell_type": "code",
   "execution_count": 26,
   "id": "c7147b65-7a3d-4824-b6a3-ff2d899a8eff",
   "metadata": {},
   "outputs": [],
   "source": [
    "exp_qubit_op = []\n",
    "\n",
    "for i in range(len(qubit_op)):\n",
    "    aux = qubit_op[i].primitive.to_list()\n",
    "    #print(aux[0][0])\n",
    "    #print(aux[0][1])\n",
    "    aux1 = aux[0][0][:4]+'I'+aux[0][0][4:]\n",
    "    #print(aux1)\n",
    "    \n",
    "    exp_qubit_op.append((aux1, aux[0][1]))\n",
    "    \n",
    "from qiskit.opflow.primitive_ops import PauliSumOp\n",
    "\n",
    "auxP = PauliSumOp.from_list(exp_qubit_op)\n",
    "    "
   ]
  },
  {
   "cell_type": "code",
   "execution_count": 27,
   "id": "ca34f0bd-e3d5-40cc-8e3b-3ce5932219e9",
   "metadata": {},
   "outputs": [],
   "source": [
    "from qiskit.algorithms.optimizers import SPSA, COBYLA\n",
    "\n",
    "#optimizer = SPSA(maxiter=150)\n",
    "optimizer = COBYLA(maxiter=100)"
   ]
  },
  {
   "cell_type": "code",
   "execution_count": 28,
   "id": "cf3056b2-ad60-4f91-9f6b-f7404ed374ff",
   "metadata": {},
   "outputs": [
    {
     "name": "stdout",
     "output_type": "stream",
     "text": [
      "{   'aux_operator_eigenvalues': None,\n",
      "    'cost_function_evals': 1,\n",
      "    'eigenstate': None,\n",
      "    'eigenvalue': -1.312141384641212,\n",
      "    'optimal_circuit': None,\n",
      "    'optimal_parameters': array([], dtype=float64),\n",
      "    'optimal_point': None,\n",
      "    'optimal_value': None,\n",
      "    'optimizer_evals': None,\n",
      "    'optimizer_result': None,\n",
      "    'optimizer_time': None}\n",
      "execution time (s): 0.01\n"
     ]
    }
   ],
   "source": [
    "# Define instance of qiskit-terra's Estimator primitive\n",
    "estimator = Estimator([ansatz_opt], [auxP])\n",
    "# Setup VQE algorithm\n",
    "\n",
    "# Define a simple callback function\n",
    "intermediate_info = []\n",
    "def callback(value):\n",
    "        intermediate_info.append(value)\n",
    "\n",
    "custom_vqe = CustomVQE(estimator, ansatz_opt, optimizer, callback=callback)\n",
    "\n",
    "# Run the custom VQE function and monitor execution time\n",
    "start = time.time()\n",
    "res_sim = custom_vqe.compute_minimum_eigenvalue(auxP)\n",
    "end = time.time()\n",
    "\n",
    "print(res_sim)\n",
    "print(f'execution time (s): {end - start:.2f}')"
   ]
  },
  {
   "cell_type": "code",
   "execution_count": 30,
   "id": "7d03a346-ce62-4931-a01d-b447d38d1384",
   "metadata": {},
   "outputs": [
    {
     "name": "stdout",
     "output_type": "stream",
     "text": [
      "=== GROUND STATE ENERGY ===\n",
      " \n",
      "* Electronic ground state energy (Hartree): -18.931657247401\n",
      "  - computed part:      -1.312141384641\n",
      "  - FreezeCoreTransformer extracted energy part: -17.619515862759\n",
      "~ Nuclear repulsion energy (Hartree): 3.37181881021\n",
      "> Total ground state energy (Hartree): -15.559838437191\n",
      " \n",
      "=== MEASURED OBSERVABLES ===\n",
      " \n",
      " \n",
      "=== DIPOLE MOMENTS ===\n",
      " \n",
      "~ Nuclear dipole moment (a.u.): [15.1253679  0.0  0.0]\n",
      " \n"
     ]
    }
   ],
   "source": [
    "cmp_gs = problem.interpret(res_sim).total_energies[0].real\n",
    "print(problem.interpret(res_sim))"
   ]
  },
  {
   "cell_type": "code",
   "execution_count": 31,
   "id": "a83e14b6-e273-48b7-bcfa-04ac4d31f390",
   "metadata": {},
   "outputs": [
    {
     "name": "stdout",
     "output_type": "stream",
     "text": [
      "-15.559838437190795\n",
      "-15.59503095223091\n",
      "0.2256649258851352\n"
     ]
    }
   ],
   "source": [
    "print(cmp_gs)\n",
    "print(ana_gs)\n",
    "print((ana_gs-cmp_gs)/ana_gs*100)"
   ]
  },
  {
   "cell_type": "code",
   "execution_count": 32,
   "id": "533c1c67-207d-4dc7-adcf-c1c992bd052a",
   "metadata": {},
   "outputs": [],
   "source": [
    "from qiskit_ibm_runtime import QiskitRuntimeService, Session, Estimator as RuntimeEstimator, Options\n",
    "QiskitRuntimeService.save_account(channel=\"ibm_quantum\", token='7d51f5c5e5c7521015c58312ad6428df9fc7dcf957d3159dfba1f25c77afdbee41b8ae64d75b87285e51cd8d0b28c172a4a13c2491283414a1d489281fb5a2f1' ,overwrite=True)\n",
    "optimizer = COBYLA(maxiter=5)"
   ]
  },
  {
   "cell_type": "code",
   "execution_count": 33,
   "id": "4f02ec42-36fa-4543-90cf-0a33b77d2eab",
   "metadata": {},
   "outputs": [],
   "source": [
    "# Define a simple callback function\n",
    "intermediate_info_run = []\n",
    "def callback_run(value):\n",
    "        intermediate_info_run.append(value)"
   ]
  },
  {
   "cell_type": "code",
   "execution_count": 34,
   "id": "5bdc4a3e-56a0-4622-b7bc-f258a3ddd98a",
   "metadata": {},
   "outputs": [],
   "source": [
    "import signal, time\n",
    "\n",
    "from qiskit_ibm_runtime import Estimator, Session\n",
    "from qiskit.providers import JobStatus\n",
    "\n",
    "def timeout_handler(signum, frame):\n",
    "    raise Exception('Iteration timed out')\n",
    "    \n",
    "class RetryEstimator(Estimator):\n",
    "    \"\"\"RuntimeRetryEstimator class.\n",
    "    \n",
    "    This class inherits from Qiskit IBM Runtime's Estimator and overwrites its run method such that it retries calling it\n",
    "    a maximum of 'max_retries' consecutive times, if it encounters one of the following randomly occuring errors:\n",
    "    \n",
    "    * An Estimator error (in this case \"Job.ERROR\" is printed, and the job is cancelled automatically)\n",
    "    * A timeout error where the job either remains running or completes but does not return anything, for a time larger \n",
    "      than 'timeout' (in this case the job is cancelled by the patch and \"Job.CANCELLED\" is printed)\n",
    "    * A creation error, where the job fails to be created because connection is lost between the runtime server and the\n",
    "      quantum computer (in this case \"Failed to create job.\" is printed). If this error occurs, the patch connects the user\n",
    "      to a new Session (to be handled with care! also, this will unfortunately put the next job in the queue). \n",
    "    \"\"\"\n",
    "    \n",
    "    def __init__(self, *args, max_retries: int = 5, timeout: int = 3600, **kwargs) -> None:\n",
    "        super().__init__(*args, **kwargs)\n",
    "        self.max_retries = max_retries\n",
    "        self.timeout = timeout\n",
    "        self.backend = super().session._backend\n",
    "        signal.signal(signal.SIGALRM, timeout_handler)\n",
    "    \n",
    "    def run(self, circuits, observables, parameter_values, **kwargs):\n",
    "        result = None\n",
    "        for i in range(self.max_retries):\n",
    "            try:\n",
    "                job = super().run(circuits, observables, parameter_values, **kwargs)\n",
    "                while job.status() in [JobStatus.INITIALIZING, JobStatus.QUEUED, JobStatus.VALIDATING]:\n",
    "                    time.sleep(5) # Check every 5 seconds whether job status has changed\n",
    "                signal.alarm(self.timeout) # Once job starts running, set timeout to 1 hour by default\n",
    "                result = job.result()\n",
    "                if result is not None:\n",
    "                    signal.alarm(0) # reset timer\n",
    "                    return job\n",
    "            except Exception as e:\n",
    "                print(\"\\nSomething went wrong...\")\n",
    "                print(f\"\\n\\nERROR MESSAGE:\\n{e}\\n\\n\")\n",
    "                if 'job' in locals(): # Sometimes job fails to create\n",
    "                    print(f\"Job ID: {job.job_id}. Job status: {job.status()}.\")\n",
    "                    if job.status() not in [JobStatus.DONE, JobStatus.ERROR, JobStatus.CANCELLED]:\n",
    "                        job.cancel()\n",
    "                else:\n",
    "                    print(\"Failed to create job.\")\n",
    "                print(f\"Starting trial number {i+2}...\\n\")\n",
    "                print(f\"Creating new session...\\n\")\n",
    "                signal.alarm(0) # reset timer\n",
    "                super().session.close()\n",
    "                self._session = Session(backend=self.backend)\n",
    "        if result is None:\n",
    "            raise RuntimeError(f\"Program failed! Maximum number of retries ({self.max_retries}) exceeded\")"
   ]
  },
  {
   "cell_type": "code",
   "execution_count": 35,
   "id": "2d33eb66-2624-4e15-8baf-d7160100e79e",
   "metadata": {},
   "outputs": [
    {
     "name": "stdout",
     "output_type": "stream",
     "text": [
      "<IBMBackend('ibm_nairobi')>\n"
     ]
    }
   ],
   "source": [
    "from qiskit_ibm_runtime import QiskitRuntimeService\n",
    "\n",
    "# Save your credentials on disk.\n",
    "# QiskitRuntimeService.save_account(channel='ibm_quantum', token=<IBM Quantum API key>)\n",
    "\n",
    "service = QiskitRuntimeService(\n",
    "    channel='ibm_quantum',\n",
    "    instance='qhack-event/main/level-1',\n",
    ")\n",
    "backend = service.get_backend('ibm_nairobi')\n",
    "print(backend)"
   ]
  },
  {
   "cell_type": "code",
   "execution_count": 36,
   "id": "bc3468d1-adfb-451a-804d-e6fa50ba9025",
   "metadata": {},
   "outputs": [],
   "source": [
    "ansatz_opt = transpile(var, backend=backend, initial_layout=q_layout, optimization_level =3)"
   ]
  },
  {
   "cell_type": "code",
   "execution_count": 38,
   "id": "eb862c73-fea8-402e-a190-aacc7f6cafec",
   "metadata": {},
   "outputs": [],
   "source": [
    "options = Options()\n",
    "options.execution.shots = 1024\n",
    "options.optimization_level = 3\n",
    "options.resilience_level = 3"
   ]
  },
  {
   "cell_type": "code",
   "execution_count": 39,
   "id": "aaca81c0-8208-4ce0-8096-f24a2510c650",
   "metadata": {},
   "outputs": [
    {
     "name": "stdout",
     "output_type": "stream",
     "text": [
      "Options(optimization_level=3, resilience_level=3, max_execution_time=None, transpilation=TranspilationOptions(skip_transpilation=False, initial_layout=None, layout_method=None, routing_method=None, approximation_degree=None), resilience=ResilienceOptions(noise_amplifier='TwoQubitAmplifier', noise_factors=(1, 3, 5), extrapolator='LinearExtrapolator'), execution=ExecutionOptions(shots=1024, init_qubits=True), environment=EnvironmentOptions(log_level='WARNING', callback=None, job_tags=[]), simulator=SimulatorOptions(noise_model=None, seed_simulator=None, coupling_map=None, basis_gates=None))\n",
      "execution time (s): 33364.85\n"
     ]
    }
   ],
   "source": [
    "start = time.time()\n",
    "with Session(service=service, backend=backend) as session:\n",
    "    #  Prepare primitive\n",
    "    print(options)\n",
    "    rt_estimator = RetryEstimator(session=session, options=options)# RuntimeEstimator(session=session, options=options)\n",
    "     # Set up algorithm\n",
    "    custom_vqe = CustomVQE(rt_estimator, ansatz_opt, optimizer, callback=callback_run)\n",
    "     # Run algorithm\n",
    "    result = custom_vqe.compute_minimum_eigenvalue(auxP)\n",
    "end = time.time()\n",
    "print(f'execution time (s): {end - start:.2f}')"
   ]
  },
  {
   "cell_type": "code",
   "execution_count": 40,
   "id": "b34cf382-c4ed-432d-b4bd-387acc567340",
   "metadata": {},
   "outputs": [
    {
     "name": "stdout",
     "output_type": "stream",
     "text": [
      "{   'aux_operator_eigenvalues': None,\n",
      "    'cost_function_evals': 1,\n",
      "    'eigenstate': None,\n",
      "    'eigenvalue': -1.4429022960174533,\n",
      "    'optimal_circuit': None,\n",
      "    'optimal_parameters': array([], dtype=float64),\n",
      "    'optimal_point': None,\n",
      "    'optimal_value': None,\n",
      "    'optimizer_evals': None,\n",
      "    'optimizer_result': None,\n",
      "    'optimizer_time': None}\n"
     ]
    }
   ],
   "source": [
    "print(result)"
   ]
  },
  {
   "cell_type": "code",
   "execution_count": 42,
   "id": "229f5fec-7775-47fb-ac6c-6f25dc3e664c",
   "metadata": {},
   "outputs": [
    {
     "name": "stdout",
     "output_type": "stream",
     "text": [
      "=== GROUND STATE ENERGY ===\n",
      " \n",
      "* Electronic ground state energy (Hartree): -19.062418158777\n",
      "  - computed part:      -1.442902296017\n",
      "  - FreezeCoreTransformer extracted energy part: -17.619515862759\n",
      "~ Nuclear repulsion energy (Hartree): 3.37181881021\n",
      "> Total ground state energy (Hartree): -15.690599348567\n",
      " \n",
      "=== MEASURED OBSERVABLES ===\n",
      " \n",
      " \n",
      "=== DIPOLE MOMENTS ===\n",
      " \n",
      "~ Nuclear dipole moment (a.u.): [15.1253679  0.0  0.0]\n",
      " \n"
     ]
    }
   ],
   "source": [
    "res_gs = problem.interpret(result).total_energies[0].real\n",
    "print(problem.interpret(result))"
   ]
  },
  {
   "cell_type": "code",
   "execution_count": 45,
   "id": "79df765a-7d93-4ca0-ac1a-4cfa7ae9caba",
   "metadata": {},
   "outputs": [
    {
     "name": "stdout",
     "output_type": "stream",
     "text": [
      "-15.690599348567037\n",
      "-15.59503095223091\n",
      "0.612813123801177\n"
     ]
    }
   ],
   "source": [
    "print(res_gs)\n",
    "print(ana_gs)\n",
    "print(abs((ana_gs-res_gs)/ana_gs*100))"
   ]
  },
  {
   "cell_type": "code",
   "execution_count": null,
   "id": "a2f843c1-4754-4c22-b291-9f13454e5d36",
   "metadata": {},
   "outputs": [],
   "source": []
  }
 ],
 "metadata": {
  "kernelspec": {
   "display_name": "Python 3 [Default]",
   "language": "python",
   "name": "python3"
  },
  "language_info": {
   "codemirror_mode": {
    "name": "ipython",
    "version": 3
   },
   "file_extension": ".py",
   "mimetype": "text/x-python",
   "name": "python",
   "nbconvert_exporter": "python",
   "pygments_lexer": "ipython3",
   "version": "3.9.10"
  }
 },
 "nbformat": 4,
 "nbformat_minor": 5
}
